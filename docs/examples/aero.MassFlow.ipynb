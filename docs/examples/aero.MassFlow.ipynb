{
 "cells": [
  {
   "cell_type": "code",
   "execution_count": null,
   "metadata": {},
   "outputs": [],
   "source": [
    "import aerokit.aero.MassFlow   as mf\n",
    "import numpy as np"
   ]
  },
  {
   "cell_type": "markdown",
   "metadata": {},
   "source": [
    "Consider a nozzle in which a perfect gas is flowing ($\\gamma = 1.4$ ; $r = 287$). The area of throat and exit sections are $A_\\textrm{throat} = 0.1 m²$\n",
    "and\n",
    "$A_\\textrm{exit} = 0.25m²$.\n",
    "\n",
    "Find the Mach number of the flow at the exit of the nozzle in an adapted supersonic regime."
   ]
  },
  {
   "cell_type": "code",
   "execution_count": null,
   "metadata": {},
   "outputs": [],
   "source": [
    "A_throat = .1\n",
    "A_exit = .25\n",
    "sigma_Mexit = A_exit / A_throat\n",
    "M_exit = mf.Mach_Sigma(sigma_Mexit)\n",
    "print(\"The Mach number of the flow at the exit of the nozzle is M = {:.2f}.\".format(M_exit))"
   ]
  },
  {
   "cell_type": "markdown",
   "metadata": {},
   "source": [
    "Considering the following total pressure and total temperature of the flow\n",
    "$P_t = 1.07 \\cdot 10^6$ Pa and $T_t = 300$ K.\n",
    "\n",
    "Using weighted mass flow, what is the mass flow at the throat of the nozzle ?"
   ]
  },
  {
   "cell_type": "code",
   "execution_count": null,
   "metadata": {},
   "outputs": [],
   "source": [
    "M_throat = 1\n",
    "m_dot_R = mf.WeightMassFlow(M_throat)\n",
    "print(\"The weight mass flow is m_dot_R = {:.4f}\".format(m_dot_R))\n",
    "P_t = 1.07e6\n",
    "T_t = 300.\n",
    "r = 287.\n",
    "m_dot = m_dot_R*(P_t*A_throat)/np.sqrt(r*T_t)\n",
    "print(\"The mass flow is m_dot = {:.2f} kg/s\".format(m_dot))"
   ]
  },
  {
   "cell_type": "markdown",
   "metadata": {},
   "source": [
    "The flow is now subsonic. Furthermore, the nature of the gas has changed, its specific constant is now $\\gamma = 1.25$.\n",
    "\n",
    "The Mach number at the throat is $M_\\textrm{exit} = 0.85$.\n",
    "\n",
    "Find $M_\\textrm{exit}$, the Mach number at the exit of the nozzle, in this case."
   ]
  },
  {
   "cell_type": "code",
   "execution_count": null,
   "metadata": {},
   "outputs": [],
   "source": [
    "A_throat = .1\n",
    "A_exit = .25\n",
    "sigma_Mthroat = mf.Sigma_Mach(.85, 1.25)\n",
    "sigma_Mexit = (A_exit / A_throat)*sigma_Mthroat\n",
    "M_exit = mf.MachSub_Sigma(sigma_Mexit, 1.25)\n",
    "print(\"The Mach number of the flow at the exit of the nozzle is M = {:.2f}.\".format(M_exit))"
   ]
  }
 ],
 "metadata": {
  "interpreter": {
   "hash": "916dbcbb3f70747c44a77c7bcd40155683ae19c65e1c03b4aa3499c5328201f1"
  },
  "kernelspec": {
   "display_name": "Python 3.8.10 64-bit",
   "language": "python",
   "name": "python3"
  },
  "language_info": {
   "codemirror_mode": {
    "name": "ipython",
    "version": 3
   },
   "file_extension": ".py",
   "mimetype": "text/x-python",
   "name": "python",
   "nbconvert_exporter": "python",
   "pygments_lexer": "ipython3",
   "version": "3.8.10"
  },
  "orig_nbformat": 4
 },
 "nbformat": 4,
 "nbformat_minor": 2
}
