{
 "cells": [
  {
   "cell_type": "markdown",
   "metadata": {},
   "source": [
    "# Stability of Poiseuille flow\n",
    "\n",
    "## Orr-Sommerfeld equation\n",
    "\n",
    "The Orr-Sommerfeld (OS) equation is a fourth order differential equation for the modal small perturbation $v'$ over the incompressible \"parallel\" flow $U(y)$. The perturbations including $v'$ is supposed to be decomposed in several modes $v_i'(x,y,t)=\\hat{v_i}(y) \\exp(j(\\omega_i t - \\alpha_i x))$ where $\\alpha_i$ are the streamwise wave number (real), and  $\\omega_i$ are the (complex) associated pulsations. This leads to the following eigenvalue problem.\n",
    "\n",
    "\\begin{equation*}\n",
    "    \\Bigg[ \\frac{1}{i Re} (D^2 - \\alpha^2)^2 - (\\alpha U - \\omega)(D^2 - \\alpha^2) + \\alpha U'' \\Bigg] \\hat{v} = 0 \n",
    "\\end{equation*}\n",
    "where $D = \\frac{d}{dy}$\n",
    "\n",
    "The OS problem is discretized along y (x in the python class) and solved. "
   ]
  },
  {
   "cell_type": "markdown",
   "metadata": {},
   "source": [
    "## Channel incompressible flow\n",
    "\n",
    "The OS problem is derived for the specific case of a laminar incompressible flow in a channel, named Poiseuille flow. The base state is $U(y)=U_{\\max{}}(1-y^2)$. The problem is solved for a given pair of parameters $(\\alpha, R_e)$ close to the critical point.\n",
    "Eigenvalues and eigenmodes are then selected and sorted by imaginary value (from most unstable to most stable).\n",
    "Darker blue circles show pair of eigenvalues."
   ]
  },
  {
   "cell_type": "code",
   "execution_count": null,
   "id": "willing-imaging",
   "metadata": {},
   "outputs": [],
   "source": [
    "import aerokit.stability.OrrSommerfeld as OS\n",
    "import numpy as np\n",
    "\n",
    "model = OS.Poiseuille(n=101, alpha=1.0, Reynolds=6000.0)\n",
    "model.solve_eig()\n",
    "vals, _, _ = model.select_and_sort(realmin=0., imagmin=-1.)  # default is real order\n",
    "\n",
    "import matplotlib.pyplot as plt\n",
    "plt.plot(vals.real, vals.imag, \"ob\", markersize=5, alpha=0.3)\n",
    "plt.xlabel(\"$\\omega_r$\")\n",
    "plt.ylabel(\"$\\omega_i$\")\n",
    "plt.grid()"
   ]
  },
  {
   "cell_type": "markdown",
   "metadata": {},
   "source": [
    "## Grid convergence and eigenmodes\n",
    "\n",
    "Two models are run with respective grids 81 and 161. Spectra are superimposed. The coarsest grid provides a numerically sensitive branch of modes for most stables eigenvalues (as blue and red modes are not superimposed)."
   ]
  },
  {
   "cell_type": "code",
   "execution_count": null,
   "metadata": {},
   "outputs": [],
   "source": [
    "model = OS.Poiseuille(n=81, alpha=1.0, Reynolds=6000.0)\n",
    "model.solve_eig()\n",
    "vals0, _, _ = model.select_and_sort(realmin=0., imagmin=-1., sort=\"imag\")  # default is real order\n",
    "\n",
    "model = OS.Poiseuille(n=161, alpha=1.0, Reynolds=6000.0)\n",
    "model.solve_eig()\n",
    "vals, vects, order = model.select_and_sort(realmin=0., imagmin=-1., sort=\"imag\")  # default is real order\n"
   ]
  },
  {
   "cell_type": "code",
   "execution_count": null,
   "id": "acute-alert",
   "metadata": {},
   "outputs": [],
   "source": [
    "plt.title(\"Spectrum\")\n",
    "plt.plot(vals0.real, vals0.imag, \"ob\", markersize=5, alpha=0.3)\n",
    "plt.plot(vals.real, vals.imag, \"or\", markersize=3, alpha=0.9)\n",
    "for i, v in enumerate(vals[order[:20]]):\n",
    "    plt.text(v.real, v.imag, ' '+str(i), fontsize='small')\n",
    "plt.xlabel(\"$\\omega_r$\")\n",
    "plt.ylabel(\"$\\omega_i$\")\n",
    "plt.grid()\n"
   ]
  },
  {
   "cell_type": "code",
   "execution_count": null,
   "metadata": {},
   "outputs": [],
   "source": [
    "nv = 4\n",
    "fig, ax = plt.subplots(nv, 2)\n",
    "ax[0,0].set_title(\"u\")\n",
    "ax[0,1].set_title(\"v\")\n",
    "for i in range(nv):\n",
    "    ax[i,0].plot(model.x, model._diffop.matder(1) @ vects[:, order[i]].real)\n",
    "    ax[i 1].plot(model.x, vects[:, order[i]].real)\n"
   ]
  }
 ],
 "metadata": {
  "kernelspec": {
   "display_name": "Python 3",
   "language": "python",
   "name": "python3"
  },
  "language_info": {
   "codemirror_mode": {
    "name": "ipython",
    "version": 3
   },
   "file_extension": ".py",
   "mimetype": "text/x-python",
   "name": "python",
   "nbconvert_exporter": "python",
   "pygments_lexer": "ipython3",
   "version": "3.9.1"
  }
 },
 "nbformat": 4,
 "nbformat_minor": 5
}
