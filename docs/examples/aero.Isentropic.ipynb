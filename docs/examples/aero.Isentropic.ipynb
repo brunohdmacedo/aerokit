{
 "cells": [
  {
   "cell_type": "code",
   "execution_count": null,
   "id": "applied-depth",
   "metadata": {},
   "outputs": [],
   "source": [
    "import aerokit.aero.Isentropic as Is"
   ]
  },
  {
   "cell_type": "markdown",
   "id": "institutional-split",
   "metadata": {},
   "source": [
    "What are the pressure and temperature at the stagnation point in front of a subsonic upstream flow with $M_0=0.8$,  and respective $10^5$ Pa and $280$ K?"
   ]
  },
  {
   "cell_type": "code",
   "execution_count": null,
   "id": "complete-jurisdiction",
   "metadata": {},
   "outputs": [],
   "source": [
    "M0=0.8\n",
    "Pstag = 1.e5 * Is.PtPs_Mach(M0)\n",
    "Tstag = 280. * Is.TtTs_Mach(M0)\n",
    "print(\"Stagnation pressure and temperature are {:.4e} Pa and {:.2f} K\".format(Pstag, Tstag))"
   ]
  },
  {
   "cell_type": "markdown",
   "id": "6261ccc4",
   "metadata": {},
   "source": [
    "Consider a nozzle in which a perfect gas with specific constant $\\gamma = 1.1$ flows isentropically. The total pressure of the flow and the pressure at the end of the flow are respectively $ P_t = 0.45$ atm and $P = 10$ atm.\n",
    "Find the exit Mach of this flow."
   ]
  },
  {
   "cell_type": "code",
   "execution_count": null,
   "id": "a1ecc089",
   "metadata": {},
   "outputs": [],
   "source": [
    "atm = 1.01*10.e5\n",
    "\n",
    "P = 10*atm\n",
    "Pt = 0.45*atm\n",
    "\n",
    "M = Is.Mach_PtPs(P/Pt, 1.1)\n",
    "print(\"The exit Mach number of this flow is M = {:.2f}\".format(M))"
   ]
  },
  {
   "cell_type": "markdown",
   "id": "6d4552d0",
   "metadata": {},
   "source": [
    "Consider air in a pipe. The air has a temperature of $T = 390$ K and a total temperature of $T_t = 280$ K.\n",
    "What is the Mach number of the air flowing through the pipe?"
   ]
  },
  {
   "cell_type": "code",
   "execution_count": null,
   "id": "3b25b171",
   "metadata": {},
   "outputs": [],
   "source": [
    "Tt = 280\n",
    "T = 390\n",
    "M = Is.Mach_TtTs(T/Tt)\n",
    "print(\"The Mach number of this flow is M = {:.2f}\".format(M))"
   ]
  },
  {
   "cell_type": "markdown",
   "id": "e8d177fe",
   "metadata": {},
   "source": [
    "What is the velocity of the air flowing through the pipe?"
   ]
  },
  {
   "cell_type": "code",
   "execution_count": null,
   "id": "b12c5515",
   "metadata": {},
   "outputs": [],
   "source": [
    "V = Is.Velocity_MachTt(M, Tt)\n",
    "print(\"The velocity of the air flowing though the pipe is V = {:.2f} m/s\".format(V))"
   ]
  }
 ],
 "metadata": {
  "kernelspec": {
   "display_name": "Python 3",
   "language": "python",
   "name": "python3"
  },
  "language_info": {
   "codemirror_mode": {
    "name": "ipython",
    "version": 3
   },
   "file_extension": ".py",
   "mimetype": "text/x-python",
   "name": "python",
   "nbconvert_exporter": "python",
   "pygments_lexer": "ipython3",
   "version": "3.8.10"
  }
 },
 "nbformat": 4,
 "nbformat_minor": 5
}
