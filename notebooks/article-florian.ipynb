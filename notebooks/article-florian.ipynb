{
 "cells": [
  {
   "cell_type": "code",
   "execution_count": null,
   "id": "direct-google",
   "metadata": {
    "collapsed": false
   },
   "outputs": [],
   "source": [
    "%matplotlib inline\n",
    "g=1.4\n",
    "gmusd=.5*(g-1.)"
   ]
  },
  {
   "cell_type": "code",
   "execution_count": null,
   "id": "olive-photography",
   "metadata": {
    "collapsed": false
   },
   "outputs": [],
   "source": [
    "import numpy as np\n",
    "import matplotlib.pyplot as plt"
   ]
  },
  {
   "cell_type": "code",
   "execution_count": null,
   "id": "manufactured-stocks",
   "metadata": {
    "collapsed": false
   },
   "outputs": [],
   "source": [
    "m=np.linspace(1.005, 10., 101)"
   ]
  },
  {
   "cell_type": "code",
   "execution_count": null,
   "id": "electoral-processing",
   "metadata": {
    "collapsed": false
   },
   "outputs": [],
   "source": [
    "m2=m*m\n",
    "steady=(m2-1)/(1.+gmusd*m2)"
   ]
  },
  {
   "cell_type": "code",
   "execution_count": null,
   "id": "aquatic-provider",
   "metadata": {
    "collapsed": false
   },
   "outputs": [],
   "source": [
    "mu=np.sqrt((1+gmusd*m2)/(g*m2-gmusd))\n",
    "lam=(1+2./(g+1.)*(1-mu*mu)/mu)*(1.+2.*mu+1/m2)\n",
    "unsteady=lam/(1-m2)\n",
    "steady2=(mu*mu-1)/(1.+gmusd*mu*mu)"
   ]
  },
  {
   "cell_type": "code",
   "execution_count": null,
   "id": "consolidated-roots",
   "metadata": {
    "collapsed": false
   },
   "outputs": [],
   "source": [
    "plt.plot(m,steady,m,unsteady,m,steady2,m,mu)\n",
    "plt.ylim(-5, 5)"
   ]
  },
  {
   "cell_type": "code",
   "execution_count": null,
   "id": "formed-boating",
   "metadata": {
    "collapsed": false
   },
   "outputs": [],
   "source": []
  }
 ],
 "metadata": {
  "kernelspec": {
   "display_name": "Python 2",
   "language": "python",
   "name": "python2"
  },
  "language_info": {
   "codemirror_mode": {
    "name": "ipython",
    "version": 2
   },
   "file_extension": ".py",
   "mimetype": "text/x-python",
   "name": "python",
   "nbconvert_exporter": "python",
   "pygments_lexer": "ipython2",
   "version": "2.7.9"
  }
 },
 "nbformat": 4,
 "nbformat_minor": 5
}