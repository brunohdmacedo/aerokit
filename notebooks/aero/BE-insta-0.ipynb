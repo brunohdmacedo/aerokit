{
 "cells": [
  {
   "cell_type": "markdown",
   "id": "wrong-teaching",
   "metadata": {},
   "source": [
    "# BE instationnaire - 0 - Préliminaires\n",
    "\n",
    "Ce notebook montre la mise en place d'un calcul avec l'utilisation d'un certain nombre de librairies `python` et `ISAE/DAEP`. Dans les notebooks suivants, un certain nombre d'actions seront encapsulées dans un fichier à importer"
   ]
  },
  {
   "cell_type": "markdown",
   "id": "postal-power",
   "metadata": {},
   "source": [
    "## mise en forme\n",
    "\n",
    "Les commandes suivantes gèrent la mise en forme du notebook et paramètrent la sorties des figures et vidéos."
   ]
  },
  {
   "cell_type": "code",
   "execution_count": null,
   "id": "overall-florence",
   "metadata": {
    "collapsed": false
   },
   "outputs": [],
   "source": [
    "from IPython.core.display import HTML ; HTML(open(\"./custom2.css\", \"r\").read()) # notebook style"
   ]
  },
  {
   "cell_type": "code",
   "execution_count": null,
   "id": "surprised-diploma",
   "metadata": {
    "collapsed": false
   },
   "outputs": [],
   "source": [
    "import ipywidgets as widgets\n",
    "import matplotlib.pyplot as plt\n",
    "%matplotlib inline\n",
    "plt.rcParams['figure.dpi']  = 80\n",
    "plt.rcParams['savefig.dpi'] = 100\n",
    "#plt.rcParams[\"animation.html\"] = \"jshtml\"  # for matplotlib 2.1 and above, uses JavaScript\n",
    "plt.rcParams[\"animation.html\"] = \"html5\" # for matplotlib 2.0 and below, converts to x264 using ffmpeg video codec"
   ]
  },
  {
   "cell_type": "markdown",
   "id": "attached-capital",
   "metadata": {},
   "source": [
    "## Librairie de calcul `pyfvm`\n",
    "\n",
    "En plus du standard de calcul `numpy`, on importe ici les différents sous-modules de la librairie `pyfvm`:\n",
    "* `mesh`:  objets maillage\n",
    "* `field`: objets champs résultat et son maillage, permet la visualisation rapide\n",
    "* `xnum`: choix des méthodes numériques pour la discrétisation spatiale\n",
    "* `integration`: choix des méthodes d'intégration temporelle\n",
    "* `modelphy.euler` :  modèle physique des équations d'Euler 1D\n",
    "* `modeldisc`: définition du second membre discret à partir du maillage, du modèle physique, des conditions aux limites et des méthodes numériques"
   ]
  },
  {
   "cell_type": "code",
   "execution_count": null,
   "id": "minimal-america",
   "metadata": {
    "collapsed": false
   },
   "outputs": [],
   "source": [
    "# librairies Python\n",
    "import time\n",
    "import numpy as np \n",
    "# librairies ISAE/DAEP\n",
    "import pyfvm.mesh           as msh\n",
    "import pyfvm.field          as sol\n",
    "import pyfvm.xnum           as numx\n",
    "import pyfvm.integration    as numt\n",
    "import pyfvm.modelphy.euler as euler\n",
    "import pyfvm.modeldisc      as modeldisc\n",
    "#\n",
    "nx       = 200\n",
    "meshsim  = msh.unimesh(ncell=nx,  length=10.)\n",
    "model = euler.model()\n",
    "bcsym = { 'type': 'sym'}\n",
    "bcper = { 'type': 'per'}\n",
    "\n",
    "rhs = modeldisc.fvm(model, meshsim, numx.muscl(numx.vanalbada), bcL=bcsym, bcR=bcsym)\n",
    "solver = numt.rk3ssp(meshsim, rhs)"
   ]
  },
  {
   "cell_type": "markdown",
   "id": "occupied-exhaust",
   "metadata": {},
   "source": [
    "## 1. Simulation du cas de calcul\n",
    "\n",
    "Les commandes suivantes gèrent la mise en forme du notebook et paramètrent la sorties des figures et vidéos.\n",
    "\n",
    "### 1.1 définition de la condition initiale\n",
    "\n",
    "On travaille avec des variables normalisées.\n",
    "\n",
    "<p class=\"question\">\n",
    "1. Calculer la vitesse du son de l'écoulement moyen pour cet écoulement normalisé.\n",
    "</p>\n",
    "<p class=\"answer\">    réponse ! </p>\n",
    "\n",
    "<p class=\"question\">\n",
    "2. Quel temps de simulation est nécessaire pour la propagation d'une onde acoustique sur la longueur du tube $10m$\n",
    "</p>\n",
    "<p class=\"answer\">    réponse ! </p>"
   ]
  },
  {
   "cell_type": "markdown",
   "id": "featured-rapid",
   "metadata": {},
   "source": [
    "### 1.2 exécution de la simulation\n",
    "\n",
    "Les commandes suivantes gèrent la mise en forme du notebook et paramètrent la sorties des figures et vidéos."
   ]
  },
  {
   "cell_type": "code",
   "execution_count": null,
   "id": "magnetic-warrant",
   "metadata": {
    "collapsed": false
   },
   "outputs": [],
   "source": [
    "# computation\n",
    "#\n",
    "nsol    = 120\n",
    "endtime = 12.\n",
    "cfl     = .5\n",
    "\n",
    "start = time.clock()\n",
    "fsol = solver.solve(finit, cfl, np.linspace(0., endtime, nsol+1))\n",
    "cputime = time.clock()-start\n",
    "\n",
    "print \"cpu time computation (\",solver.nit,\"it) :\",cputime,\"s\"\n",
    "print \"  %.2f µs/cell/it\"%(cputime*1.e6/solver.nit/meshsim.ncell)"
   ]
  },
  {
   "cell_type": "markdown",
   "id": "aerial-experience",
   "metadata": {},
   "source": [
    "## Exploitation des résultats\n",
    "\n",
    "Les commandes suivantes gèrent la mise en forme du notebook et paramètrent la sorties des figures et vidéos."
   ]
  },
  {
   "cell_type": "code",
   "execution_count": null,
   "id": "affiliated-cornwall",
   "metadata": {
    "collapsed": false
   },
   "outputs": [],
   "source": [
    "# Figure / Plot of final results\n",
    "#\n",
    "varname='velocity'\n",
    "fig, (ax1,ax2) = plt.subplots(1, 2, figsize=(12,4))\n",
    "ax1.set_ylabel(varname) ; ax1.set_ylim(-vavg-vmag, vavg+vmag)\n",
    "ax1.grid(linestyle='--', color='0.5')\n",
    "line1, = fsol[-1].plot(varname, 'k-', axes=ax1)\n",
    "ax2.set_ylabel('t') ; ax2.set_xlim(0., 10.)\n",
    "#ax2.grid(linestyle='--', color='0.5')\n",
    "ttime = [ fsol[i].time for i in range(nsol+1) ]\n",
    "xx, xt = np.meshgrid(xc, ttime)\n",
    "solgrid = [ fsol[i].phydata(varname) for i in range(nsol+1) ]\n",
    "#error = [ np.sqrt(np.sum((fsol[i].phydata(varname)-mach_th)**2)/nx)/mach_th for i in range(nsol+1) ]\n",
    "#print error\n",
    "flood  = ax2.contour(xx, xt, solgrid, np.linspace(-vavg-vmag, vavg+vmag, 50))\n",
    "line2, = ax2.plot([0., 10.], [ttime[-1], ttime[-1]], 'k--')\n"
   ]
  },
  {
   "cell_type": "code",
   "execution_count": null,
   "id": "intense-hungarian",
   "metadata": {
    "collapsed": false
   },
   "outputs": [],
   "source": [
    "import matplotlib.animation as anim\n",
    "#\n",
    "def animate(k):\n",
    "    #i = min(k, nsol)\n",
    "    fsol[k].set_plotdata(line1, 'mach')\n",
    "    line2.set_data([0., 10.], [ttime[k], ttime[k]])\n",
    "    return line1, line2\n",
    "\n",
    "ani = anim.FuncAnimation(fig=fig, func=animate, frames=range(nsol+1), interval=100, blit=True)\n",
    "ani\n",
    "#from IPython.display import HTML\n",
    "#HTML(ani.to_html5_video()) # if no rcparams"
   ]
  },
  {
   "cell_type": "code",
   "execution_count": null,
   "id": "parliamentary-clearing",
   "metadata": {
    "collapsed": false
   },
   "outputs": [],
   "source": []
  },
  {
   "cell_type": "code",
   "execution_count": null,
   "id": "eligible-popularity",
   "metadata": {
    "collapsed": false
   },
   "outputs": [],
   "source": []
  }
 ],
 "metadata": {
  "kernelspec": {
   "display_name": "Python 2",
   "language": "python",
   "name": "python2"
  },
  "language_info": {
   "codemirror_mode": {
    "name": "ipython",
    "version": 2
   },
   "file_extension": ".py",
   "mimetype": "text/x-python",
   "name": "python",
   "nbconvert_exporter": "python",
   "pygments_lexer": "ipython2",
   "version": "2.7.15"
  }
 },
 "nbformat": 4,
 "nbformat_minor": 5
}