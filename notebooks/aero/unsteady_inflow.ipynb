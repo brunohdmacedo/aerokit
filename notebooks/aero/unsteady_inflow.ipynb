{
 "cells": [
  {
   "cell_type": "code",
   "execution_count": null,
   "id": "black-rough",
   "metadata": {},
   "outputs": [],
   "source": [
    "import numpy as np\n",
    "import aerokit.aero.ShockWave  as sw\n",
    "import aerokit.aero.unsteady1D as uq\n",
    "import aerokit.aero.unsteady_inflow as inflow\n",
    "import matplotlib.pyplot as plt\n",
    "%matplotlib inline\n",
    "plt.rcParams['font.size'] = 14 ; plt.rcParams['axes.grid'] = True ; plt.rcParams['grid.linestyle'] = ':'\n",
    "plt.rcParams['lines.linewidth'] = 1.5 ; plt.rcParams['legend.fontsize'] = 12\n",
    "#print plt.rcParams.keys()\n",
    "# for slides\n",
    "#plt.rcParams['font.size'] = 24 ; plt.rcParams['grid.linewidth'] = 2 ; plt.rcParams['lines.linewidth'] = 4"
   ]
  },
  {
   "cell_type": "code",
   "execution_count": null,
   "id": "opposed-costa",
   "metadata": {},
   "outputs": [],
   "source": [
    "M0 = 0.3\n",
    "qi = uq.unsteady_state(rho=1., u=M0*np.sqrt(1.4), p=1.)\n",
    "rtti = qi.rTtot()\n",
    "# defintion du probleme instationnaire en entree, qi est etat initial donc qR\n",
    "inlet = inflow.inflow_pb(qi)\n",
    "\n",
    "taux_tt =1.\n",
    "\n",
    "pi_range = np.arange(1., 5., .05) ; n = pi_range.size\n",
    "mf0 = np.ones(n)\n",
    "mf1 = np.ones(n)\n",
    "mf2 = np.ones(n)\n",
    "mff = np.ones(n)\n",
    "mffb = np.ones(n)\n",
    "taux_ps = np.ones(n)\n",
    "Ms = np.ones(n)\n",
    "M1 = np.ones(n)\n",
    "M2 = np.ones(n)\n",
    "\n",
    "for i in range(n):\n",
    "    # calculs des etats intermediaires, resultat de Pt impose\n",
    "    inlet.solve_with_pt0_rtt0(pi_range[i]*qi.Ptot(), taux_tt*rtti)\n",
    "    qf  = qi.copy()\n",
    "    qfb = qi.copy()\n",
    "    # Qf est etat final qui satisfait Pt amont et p0 aval de etat initial\n",
    "    qf.compute_from_pt_rtt_p(pi_range[i]*qi.Ptot(), taux_tt*rtti, qi.p)\n",
    "    qfb.compute_from_pt_rtt_M(pi_range[i]*qi.Ptot(), taux_tt*rtti, M0)\n",
    "    # extraction des resultats\n",
    "    mf0[i]  = inlet._qR.massflow()\n",
    "    mf1[i]  = inlet._qstarR.massflow()\n",
    "    mf2[i]  = inlet._qstarL.massflow()\n",
    "    mff[i]  = qf.massflow()\n",
    "    mffb[i] = qfb.massflow()\n",
    "    taux_ps[i] = inlet._qstarR.p / inlet._qR.p\n",
    "    Ms[i] = sw.Mn_Ps_ratio(taux_ps[i])\n",
    "    M1[i] = inlet._qstarR.Mach()\n",
    "    M2[i] = inlet._qstarL.Mach()    \n",
    "#\n",
    "fig, ax = plt.subplots(1,3, figsize=[18,5])\n",
    "#\n",
    "ax[0].plot(pi_range, mf0, pi_range, mf1, pi_range, mf2, pi_range, mff, pi_range, mffb)\n",
    "ax[0].set(xlabel='taux $P_t$', ylabel='massflow')\n",
    "ax[0].legend(('mf0', 'mf1', 'mf2', 'mff', 'mffb'), loc='best')\n",
    "#\n",
    "ax[1].plot(pi_range, Ms, pi_range, taux_ps, pi_range, M1, pi_range, M2)\n",
    "ax[1].set(xlabel='taux $P_t$', ylabel='$M_s$, $\\Pi$, $M_1$, $M_2$')\n",
    "ax[1].legend(('$M_s$', '$\\pi_{sh}$', '$M_1$', '$M_2$'), loc='best')\n",
    "#\n",
    "ax[2].plot(pi_range, (mf1-mf0)/(mff-mf0), pi_range, (mf2-mf0)/(mff-mf0), pi_range, (mf1-mf0)/(mffb-mf0), pi_range, (mf2-mf0)/(mffb-mf0))\n",
    "ax[2].set(xlabel='taux $P_t$', ylabel='$\\dot{m}$ normalise')\n",
    "ax[2].legend(('1f', '2f', '1fb', '2fb'), loc='best')\n"
   ]
  },
  {
   "cell_type": "code",
   "execution_count": null,
   "id": "urban-crest",
   "metadata": {},
   "outputs": [],
   "source": [
    "#print plt.rcParams"
   ]
  },
  {
   "cell_type": "code",
   "execution_count": null,
   "id": "julian-sector",
   "metadata": {},
   "outputs": [],
   "source": []
  }
 ],
 "metadata": {
  "kernelspec": {
   "display_name": "Python 3 (ipykernel)",
   "language": "python",
   "name": "python3"
  },
  "language_info": {
   "codemirror_mode": {
    "name": "ipython",
    "version": 3
   },
   "file_extension": ".py",
   "mimetype": "text/x-python",
   "name": "python",
   "nbconvert_exporter": "python",
   "pygments_lexer": "ipython3",
   "version": "3.8.10"
  }
 },
 "nbformat": 4,
 "nbformat_minor": 5
}
