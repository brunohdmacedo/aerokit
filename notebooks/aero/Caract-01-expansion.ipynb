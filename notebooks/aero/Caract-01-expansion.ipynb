{
 "cells": [
  {
   "cell_type": "markdown",
   "id": "connected-lafayette",
   "metadata": {},
   "source": [
    "# Détente sur paroi centrée\n",
    "\n",
    "\n",
    "On vous propose de mettre en place ...\n",
    "\n",
    "`Python` sera utilisé ici comme `matlab`. Des fonctionnalités supplémentaires peuvent être ajoutées par l'import de modules, standards à une distribution (comme `math`, `numpy`) ou personnalisés comme ci-dessous. Des fonctionnalités d'édition sont propres à [`Ipython/Notebook`](#ipython)."
   ]
  },
  {
   "cell_type": "code",
   "execution_count": null,
   "id": "substantial-music",
   "metadata": {
    "collapsed": false
   },
   "outputs": [],
   "source": [
    "import math\n",
    "import numpy as np\n",
    "import matplotlib.pyplot as plt\n",
    "from aerokit.common import defaultgas\n",
    "from aerokit.aero import degree     as deg  # import trigo functions with degree unit support\n",
    "#from aerokit.aero import ShockWave  as sw   # import functions for shockwave computation\n",
    "from aerokit.aero import Supersonic as sup  # import functions for steady supersonic flows\n",
    "%matplotlib inline\n",
    "#\n",
    "#plt.rc('text', usetex=True)\n",
    "sty_carac = { 'color': 'orange', 'linewidth': 2 }\n",
    "sty_wall  = { 'color': 'black',  'linewidth': 3 }\n",
    "sty_flow  = { 'color': 'green',  'linewidth': 3 }\n",
    "sty_text  = { 'fontsize': 14 }"
   ]
  },
  {
   "cell_type": "markdown",
   "id": "static-anchor",
   "metadata": {},
   "source": [
    "On définit tout d'abord les paramètres de ce cas. Ils sont définis comme des variables globales, que l'on peut utiliser directement dans les fonctions (comme $\\gamma$ par exemple)."
   ]
  },
  {
   "cell_type": "code",
   "execution_count": null,
   "id": "finished-opposition",
   "metadata": {
    "collapsed": false,
    "scrolled": false
   },
   "outputs": [],
   "source": [
    "# definition of problem parameters\n",
    "gam  = 1.4 ; defaultgas.set_gamma(gam)\n",
    "ymin = -1.\n",
    "ymax = 1. # \n",
    "xmax = 2.\n",
    "xneg = -.5\n",
    "#\n",
    "def init_case(m, ang):\n",
    "    global M0, wang, wang0, wang1, om0, om1, M1, mu0, mu1, p1p0\n",
    "    M0   = m\n",
    "    wang = ang\n",
    "    wang0 = 0.\n",
    "    wang1 = wang\n",
    "    wdev = wang1-wang0\n",
    "    om0  = sup.PrandtlMeyer_Mach(M0)\n",
    "    om1  = om0 - wdev\n",
    "    M1   = sup.Mach_PrandtlMeyer(om1)\n",
    "    p1p0 = sup.IsentropicPsratio_Mach_deflection(M1, wdev)\n",
    "    mu0 = deg.asin(1./M0)\n",
    "    mu1 = deg.asin(1./M1)\n",
    "    \n",
    "# function to plot the geometry\n",
    "#\n",
    "def init_fig(zoom=1):\n",
    "    global ax, fig\n",
    "    fig = plt.figure(figsize=(14*zoom,8*zoom), facecolor='white')\n",
    "    ax  = fig.add_subplot(111) \n",
    "    #plt.axis([xneg, length])\n",
    "    ax.set(aspect=\"equal\")\n",
    "    ax.axis('off')\n",
    "    #ax.set_facecolor('white') # depends on backend\n",
    "    ax.set_xlim(xneg, xmax) #, xlim=[xneg, 4*length], ylim=[-.1, ymax])\n",
    "    ax.set_ylim(ymin, ymax) #, xlim=[xneg, 4*length], ylim=[-.1, ymax])\n",
    "\n",
    "def plot_geom(xneg=-.5, length=xmax, ymax=ymax):\n",
    "    ylow = xmax*deg.tan(wang)\n",
    "    plt.fill([xneg, 0, xmax, xmax, xneg], \n",
    "             [0,    0, ylow, ymin, ymin], facecolor='lightgray', alpha=1., zorder=100)\n",
    "    plt.plot([xneg, 0, xmax], \n",
    "             [0, 0, ylow], zorder=101, **sty_wall)\n",
    "    plt.text(xneg+.1, -.1+xmax*deg.sin(wang)/3, r'$\\Psi={:.1f}^o$'.format(wang), zorder=101, **sty_text)\n",
    "    plt.text(xneg+.1, ymax-.1, r'$M_0={:.2f}$'.format(M0), zorder=101, backgroundcolor='white', **sty_text)\n",
    "    plt.tight_layout()\n",
    "#\n",
    "# test de la fonction de tracé   \n",
    "init_fig(zoom=.5); plot_geom()"
   ]
  },
  {
   "cell_type": "markdown",
   "id": "varied-cherry",
   "metadata": {},
   "source": [
    "## Faisceau de détente"
   ]
  },
  {
   "cell_type": "code",
   "execution_count": null,
   "id": "induced-rental",
   "metadata": {
    "collapsed": false
   },
   "outputs": [],
   "source": [
    "def plot_expansion(): # tracé des caractéristiques de la détente\n",
    "    l1, = plt.plot([0, xmax], [0, xmax*deg.tan(wang0+mu0)], **sty_carac)\n",
    "    l2, = plt.plot([0, xmax], [0, xmax*deg.tan(wang1+mu1)], **sty_carac)\n",
    "    \n",
    "def fill_expansion(): # tracé des caractéristiques de la détente\n",
    "    poly =plt.fill([xmax, 0, xmax], [xmax*deg.tan(wang1+mu1), 0, xmax*deg.tan(wang0+mu0)], \n",
    "             facecolor=sty_carac['color'], alpha=.2)\n",
    "    return poly\n",
    "#\n",
    "init_fig()\n",
    "plot_expansion()\n",
    "plot_geom()\n"
   ]
  },
  {
   "cell_type": "markdown",
   "id": "sixth-french",
   "metadata": {},
   "source": [
    "## integration trajectoire \n",
    "\n"
   ]
  },
  {
   "cell_type": "code",
   "execution_count": null,
   "id": "boring-blast",
   "metadata": {
    "collapsed": false
   },
   "outputs": [],
   "source": [
    "def flow_prop(x, y):\n",
    "    oang = deg.atan2(y, x)\n",
    "    if oang > wang0+mu0:\n",
    "        prop = {'ang': wang0, 'C+': wang0+mu0, 'C-': wang0-mu0}\n",
    "    elif oang < wang1+mu1:\n",
    "        prop = {'ang': wang1, 'C+': wang1+mu1, 'C-': wang1-mu1}\n",
    "    else:\n",
    "        M  = sup.Mach_PMFmmu(wang0+om0-oang)\n",
    "        mu = deg.asin(1./M)\n",
    "        prop = {'ang': oang-mu, 'C+': oang, 'C-': oang-2*mu}\n",
    "    return prop\n",
    "\n",
    "def integ(x, y, ctype, smin, smax, npts=100):\n",
    "    def step(x0, y0, ds, ang):\n",
    "        return x0+ds*deg.cos(ang), y0+ds*deg.sin(ang)\n",
    "    trajx = np.zeros(npts+1)\n",
    "    trajy = np.zeros(npts+1)\n",
    "    nforw = int(npts * smax/(smax-smin))\n",
    "    nback = npts-nforw\n",
    "    #print(smin, smax, nforw, nback)\n",
    "    sx = x\n",
    "    sy = y\n",
    "    trajx[nback] = sx ; trajy[nback] = sy\n",
    "    # backward\n",
    "    if nback>0:\n",
    "        ds = smin/nback\n",
    "        for i in range(nback):\n",
    "            px, py = step(sx, sy, .5*ds, flow_prop(sx, sy)[ctype])    # RK2 / predictor\n",
    "            sx, sy = step(sx, sy,    ds, flow_prop(px, py)[ctype])    # RK2 / final step\n",
    "            trajx[nback-i-1] = sx ; trajy[nback-i-1] = sy\n",
    "    # forward\n",
    "    if nforw>0:\n",
    "        ds = smax/nforw\n",
    "        sx = x\n",
    "        sy = y\n",
    "        for i in range(nforw):\n",
    "            px, py = step(sx, sy, .5*ds, flow_prop(sx, sy)[ctype])    # RK2 / predictor\n",
    "            sx, sy = step(sx, sy,    ds, flow_prop(px, py)[ctype])    # RK2 / final step\n",
    "            trajx[nback+i+1] = sx ; trajy[nback+i+1] = sy\n",
    "    return trajx, trajy\n",
    "    "
   ]
  },
  {
   "cell_type": "code",
   "execution_count": null,
   "id": "hired-antibody",
   "metadata": {
    "collapsed": false
   },
   "outputs": [],
   "source": [
    "init_fig()\n",
    "fill_expansion()\n",
    "#\n",
    "x0 = 0. ; y0 = .2\n",
    "#print(flow_prop(x0, y0), x0, y0, deg.atan2(y0,x0))\n",
    "CTx, CTy = integ(x0, y0, 'ang', -.2, 3.)\n",
    "plt.plot(CTx, CTy, **sty_flow)\n",
    "CMx, CMy = integ(x0, y0, 'C-', -.2, .8)\n",
    "CPx, CPy = integ(x0, y0, 'C+', -.2, 2.)\n",
    "plt.plot(CMx, CMy, CPx, CPy, **sty_carac)\n",
    "#\n",
    "x0 = 0. ; y0 = .22\n",
    "#print(flow_prop(x0, y0), x0, y0, deg.atan2(y0,x0))\n",
    "CTx, CTy = integ(x0, y0, 'ang', 0., 3.)\n",
    "plt.plot(CTx, CTy, **sty_flow)\n",
    "#CMx, CMy = integ(x0, y0, 'C-', 0., .8)\n",
    "#CPx, CPy = integ(x0, y0, 'C+', 0., 2.)\n",
    "#plt.plot(CMx, CMy, CPx, CPy, **sty_carac)\n",
    "#\n",
    "plot_geom(length=2.)\n",
    "#print ax.get_children()"
   ]
  },
  {
   "cell_type": "markdown",
   "id": "typical-telescope",
   "metadata": {},
   "source": [
    "# Backward characteristics"
   ]
  },
  {
   "cell_type": "code",
   "execution_count": null,
   "id": "armed-percentage",
   "metadata": {
    "collapsed": false
   },
   "outputs": [],
   "source": [
    "init_fig()\n",
    "fill_expansion()\n",
    "#\n",
    "x0 = 1.2 ; y0 = x0*deg.tan(wang1) +.2\n",
    "print(flow_prop(x0, y0), x0, y0, deg.atan2(y0,x0))\n",
    "CTx, CTy = integ(x0, y0, 'ang', -1.5, .8)\n",
    "plt.plot(CTx, CTy, **sty_flow)\n",
    "CMx, CMy = integ(x0, y0, 'C-', -2., .4)\n",
    "CPx, CPy = integ(x0, y0, 'C+', -1., .4)\n",
    "plt.plot(CMx, CMy, CPx, CPy, **sty_carac)\n",
    "#\n",
    "plot_geom(length=2.)\n"
   ]
  },
  {
   "cell_type": "code",
   "execution_count": null,
   "id": "grateful-postage",
   "metadata": {
    "collapsed": false
   },
   "outputs": [],
   "source": [
    "from celluloid import Camera as cam\n",
    "plt.rcParams[\"animation.html\"] = \"html5\"\n",
    "plt.rcParams['figure.dpi']  = 80\n",
    "plt.rcParams['savefig.dpi'] = 100\n",
    "#\n",
    "init_fig()\n",
    "camera = cam(fig)\n",
    "\n",
    "for m in np.linspace(1.4, 4., 53):\n",
    "    init_case(m, -10.)\n",
    "    fill_expansion()\n",
    "    x0 = 1.2 ; y0 = 0.\n",
    "    CTx, CTy = integ(x0, y0, 'ang', -1.5, .8)\n",
    "    plt.plot(CTx, CTy, **sty_flow)\n",
    "    CMx, CMy = integ(x0, y0, 'C-', -2., .4)\n",
    "    CPx, CPy = integ(x0, y0, 'C+', -1., .4)\n",
    "    plt.plot(CMx, CMy, CPx, CPy, **sty_carac)\n",
    "    plot_geom()\n",
    "    camera.snap()\n",
    "\n",
    "camera.animate()"
   ]
  },
  {
   "cell_type": "code",
   "execution_count": null,
   "id": "naked-aggregate",
   "metadata": {
    "collapsed": false
   },
   "outputs": [],
   "source": [
    "init_fig()\n",
    "camera = cam(fig)\n",
    "\n",
    "for a in np.linspace(-5., -25, 41):\n",
    "    init_case(2., a)\n",
    "    fill_expansion()\n",
    "    x0 = 1.2 ; y0 = 0.\n",
    "    CTx, CTy = integ(x0, y0, 'ang', -1.5, .8)\n",
    "    plt.plot(CTx, CTy, **sty_flow)\n",
    "    CMx, CMy = integ(x0, y0, 'C-', -2., .4)\n",
    "    CPx, CPy = integ(x0, y0, 'C+', -1., .4)\n",
    "    plt.plot(CMx, CMy, CPx, CPy, **sty_carac)\n",
    "    plot_geom()\n",
    "    camera.snap()\n",
    "\n",
    "camera.animate()"
   ]
  },
  {
   "cell_type": "markdown",
   "id": "beneficial-samba",
   "metadata": {
    "collapsed": true
   },
   "source": [
    "---\n",
    "\n",
    "<a id=\"ipython\"></a>\n",
    "## Ipython et notebook : usage\n",
    "\n",
    "* le notebook utilise la langage de base python en version améliorée, Ipython, qui permet la complétion des noms (variables, fonctions, modules) avec la touche tabulation\n",
    "* toutes les cellules peuvent être modifiées par un double-clic et sont réinterprêtées avec `shift-entrée`\n",
    "* l'ensemble de la feuille peut être exécutée avec le menu `Cell/run all cells`\n",
    "* **n'oubliez pas de sauvegarder régulièrement votre feuille** (bouton _enregistrer_)\n"
   ]
  },
  {
   "cell_type": "code",
   "execution_count": null,
   "id": "hollywood-daily",
   "metadata": {
    "collapsed": false
   },
   "outputs": [],
   "source": [
    "from IPython.core.display import HTML ; HTML(open(\"../custom.css\", \"r\").read()) # notebook style"
   ]
  },
  {
   "cell_type": "code",
   "execution_count": null,
   "id": "muslim-sewing",
   "metadata": {
    "collapsed": false
   },
   "outputs": [],
   "source": []
  }
 ],
 "metadata": {
  "kernelspec": {
   "display_name": "Python 3",
   "language": "python",
   "name": "python3"
  },
  "language_info": {
   "codemirror_mode": {
    "name": "ipython",
    "version": 3
   },
   "file_extension": ".py",
   "mimetype": "text/x-python",
   "name": "python",
   "nbconvert_exporter": "python",
   "pygments_lexer": "ipython3",
   "version": "3.7.5"
  }
 },
 "nbformat": 4,
 "nbformat_minor": 5
}