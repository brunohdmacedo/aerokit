{
 "cells": [
  {
   "cell_type": "markdown",
   "id": "nonprofit-yield",
   "metadata": {},
   "source": [
    "# Rankine-Hugoniot, choc attaché et réflexion\n",
    "\n",
    "On vous propose de mettre en place ...\n",
    "\n",
    "`Python` sera utilisé ici comme `matlab`. Des fonctionnalités supplémentaires peuvent être ajoutées par l'import de modules, standards à une distribution (comme `math`, `numpy`) ou personnalisés comme ci-dessous. Des fonctionnalités d'édition sont propres à [`Ipython/Notebook`](#ipython)."
   ]
  },
  {
   "cell_type": "code",
   "execution_count": 2,
   "id": "thorough-jesus",
   "metadata": {},
   "outputs": [],
   "source": [
    "import math\n",
    "import numpy as np\n",
    "import matplotlib.pyplot as plt\n",
    "from aerokit.common import defaultgas\n",
    "from aerokit.aero import degree    as deg # import trigo functions with degree unit support\n",
    "from aerokit.aero import ShockWave as sw  # import functions for shockwave computation\n",
    "import aerokit.aero.plot.shockpolar as swplt\n",
    "import ipywidgets as pyw\n",
    "%matplotlib inline"
   ]
  },
  {
   "cell_type": "markdown",
   "id": "public-board",
   "metadata": {},
   "source": [
    "On définit tout d'abord les paramètres de ce cas. Ils sont définis comme des variables globales, que l'on peut utiliser directement dans les fonctions (comme $\\gamma$ par exemple)."
   ]
  },
  {
   "cell_type": "code",
   "execution_count": 3,
   "id": "fatty-sending",
   "metadata": {
    "scrolled": false
   },
   "outputs": [],
   "source": [
    "# definition of problem parameters\n",
    "gam  = 1.4 ; defaultgas.set_gamma(gam)\n",
    "\n",
    "# function to plot the geometry\n",
    "#\n",
    "def plot_geom(dev, xneg=-.5, length=2., zoom=1, ax=plt):\n",
    "    #fig = plt.figure(figsize=(14*zoom,8*zoom))\n",
    "    #plt.axis([xneg, length])\n",
    "    ax.set(aspect=\"equal\", xlim=[xneg, length], ylim=[-.1, 1.1])\n",
    "    ax.plot([xneg, length],    [1, 1],                      color=\"black\", linewidth=2)\n",
    "    ax.plot([xneg, 0, length], [0, 0, length*deg.tan(dev)], color=\"black\", linewidth=2)\n",
    "#\n",
    "# test de la fonction de tracé   "
   ]
  },
  {
   "cell_type": "markdown",
   "id": "pressing-meditation",
   "metadata": {},
   "source": [
    "## Premier choc attaché"
   ]
  },
  {
   "cell_type": "code",
   "execution_count": 4,
   "id": "extended-rachel",
   "metadata": {},
   "outputs": [],
   "source": [
    "w_M1 = pyw.Text(description=\"$M_1$\", disabled=True)\n",
    "w_M2 = pyw.Text(description=\"$M_2$\", disabled=True)\n",
    "w_res = pyw.VBox([w_M1, w_M2])\n",
    "                  \n",
    "def plot_all(M0, wdev):\n",
    "    devmax   = sw.dev_Max(M0)\n",
    "    devsonic = sw.dev_Sonic(M0)\n",
    "    sig1 = sw.sigma_Mach_deflection(M0, wdev)\n",
    "    Mn0  = M0*deg.sin(sig1)\n",
    "    p1p0 = sw.Ps_ratio(Mn0)\n",
    "    Mn1  = sw.downstream_Mn(Mn0)\n",
    "    M1   = Mn1/deg.sin(sig1-wdev)\n",
    "    sig2 = sw.sigma_Mach_deflection(M1, wdev)\n",
    "    Mn1  = M1*deg.sin(sig2)\n",
    "    p2p1 = sw.Ps_ratio(Mn1)\n",
    "    Mn2  = sw.downstream_Mn(Mn1)\n",
    "    M2   = Mn2/deg.sin(sig2-wdev)\n",
    "    p2p0 = p2p1*p1p0\n",
    "    yend=.8 # parameter to draw reflected shock\n",
    "    #\n",
    "    w_M1.value = \"{:5.3f}\".format(M1)\n",
    "    w_M2.value = \"{:5.3f}\".format(M2)\n",
    "    #\n",
    "    #fig = plt.figure(figsize=(16,8))\n",
    "    fig, (ax1, ax2) = plt.subplots(1, 2, figsize=(16,6), gridspec_kw={'width_ratios': [2, 1]})\n",
    "    fig.tight_layout()\n",
    "    plot_geom(dev=wdev, zoom=.8, ax=ax1)\n",
    "    xup  = 1./deg.tan(sig1)                     # impact of first shock on top wall\n",
    "    xbot = xup + (1.-yend)/deg.tan(sig2-wdev)   # abscissa of reflected shock at yend\n",
    "    ax1.plot([0, xup, xbot], \n",
    "             [0,   1, yend], 'red', linewidth=2)\n",
    "    #fig=swplt.figure_theta_pressure(figsize=(14,8))\n",
    "    swplt.set_grid(ax2)\n",
    "    #fig.suptitle('Polar of Shock-Waves, $\\gamma = %.1f$'%gam, fontsize=12, y=0.93)\n",
    "    ax2.set_xlabel('flow angle', fontsize=10)\n",
    "    ax2.set_ylabel('normalized static pressure', fontsize=10)\n",
    "    if p2p0 > 20.: ax2.set_yscale('log') # default is logarithmic\n",
    "    #\n",
    "    # plot polar curves\n",
    "    swplt.plot_theta_pressure(M0, devmax=True, sonic=True, curve='right', ax=ax2)\n",
    "    swplt.plot_theta_pressure(M1, thet_init=wdev, p_init=p1p0, curve='left', color='red', ax=ax2)\n",
    "\n",
    "    # plot symbols for flow regions\n",
    "    ax2.plot(0,    1.,   'bo') ; ax2.annotate(\"0\", (0,    1.),   xytext=(0,5), textcoords='offset points')\n",
    "    ax2.plot(wdev, p1p0, 'bo') ; ax2.annotate(\"1\", (wdev, p1p0), xytext=(5,-10), textcoords='offset points')\n",
    "    ax2.plot(0.,   p2p0, 'go') ; ax2.annotate(\"2\", (0,    p2p0), xytext=(5,5), textcoords='offset points')"
   ]
  },
  {
   "cell_type": "markdown",
   "id": "inappropriate-incident",
   "metadata": {},
   "source": [
    "# Représentation dans la polaire"
   ]
  },
  {
   "cell_type": "code",
   "execution_count": 5,
   "id": "legendary-logistics",
   "metadata": {
    "scrolled": false
   },
   "outputs": [
    {
     "data": {
      "application/vnd.jupyter.widget-view+json": {
       "model_id": "e2b14606e8924a8ba1bd7b88cdc1ca7d",
       "version_major": 2,
       "version_minor": 0
      },
      "text/plain": [
       "Tab(children=(VBox(children=(HBox(children=(VBox(children=(FloatSlider(value=3.0, description='$M_0$', max=10.…"
      ]
     },
     "metadata": {},
     "output_type": "display_data"
    }
   ],
   "source": [
    "w_M0  = pyw.FloatSlider(value=3, min=1, max=10, step=.05, description=\"$M_0$\")\n",
    "w_dev = pyw.FloatSlider(value=10., min=0., max=40, step=.2, description=\"$\\\\theta_w$\")\n",
    "\n",
    "w_control = pyw.HBox([pyw.VBox([w_M0, w_dev]), w_res])\n",
    "\n",
    "out = pyw.interactive(plot_all, M0=w_M0, wdev=w_dev)\n",
    "out.children[-1].layout.height = '400px'\n",
    "\n",
    "w_T1 = pyw.VBox([w_control, out.children[-1]])\n",
    "w_T2 = pyw.VBox([\n",
    "        pyw.FloatRangeSlider(value=[1., 10.], min=0, max=100.0, step=1,\n",
    "            description='$M_0$ range', readout=True, readout_format='.1f'),\n",
    "        pyw.FloatRangeSlider(value=[0., 30.], min=0, max=60.0, step=1,\n",
    "            description='$\\\\theta_w$ range', readout=True, readout_format='.1f')  ])\n",
    "output = pyw.Tab([w_T1, w_T2])\n",
    "output.set_title(0, 'Shock reflexion')\n",
    "output.set_title(1, 'Settings')\n",
    "output"
   ]
  },
  {
   "cell_type": "markdown",
   "id": "compatible-motivation",
   "metadata": {
    "collapsed": true
   },
   "source": [
    "---\n",
    "\n",
    "<a id=\"ipython\"></a>\n",
    "## Ipython et notebook : usage\n",
    "\n",
    "* le notebook utilise la langage de base python en version améliorée, Ipython, qui permet la complétion des noms (variables, fonctions, modules) avec la touche tabulation\n",
    "* toutes les cellules peuvent être modifiées par un double-clic et sont réinterprêtées avec `shift-entrée`\n",
    "* l'ensemble de la feuille peut être exécutée avec le menu `Cell/run all cells`\n",
    "* **n'oubliez pas de sauvegarder régulièrement votre feuille** (bouton _enregistrer_)\n"
   ]
  },
  {
   "cell_type": "code",
   "execution_count": 6,
   "id": "local-dietary",
   "metadata": {},
   "outputs": [
    {
     "data": {
      "text/html": [
       "\n",
       "<style>\n",
       "\n",
       "div.cell { /* set cell width to about 80 chars */\n",
       "    width: 1100px;\n",
       "}\n",
       "\n",
       "div #notebook { /* centre the content */\n",
       "    background: #fff; /* white background for content */\n",
       "    width: 1200px;\n",
       "    margin: auto;\n",
       "    padding-left: 1em;\n",
       "}\n",
       "\n",
       "/* draw border around running cells */\n",
       "div.cell.border-box-sizing.code_cell.running { \n",
       "    border: 3px solid #111;\n",
       "}\n",
       "\n",
       "/* Put a solid color box around each cell and its output, visually linking them together */\n",
       "div.cell.code_cell {\n",
       "    background-color: #f4f3e0; \n",
       "    border-radius: 10px; /* rounded borders */\n",
       "    padding: 1em;\n",
       "    margin-top: 1em;\n",
       "}\n",
       "\n",
       "\n",
       "div.text_cell_render{\n",
       "    font-family: sans-serif;\n",
       "    line-height: 130%;\n",
       "    font-size: 110%;\n",
       "    width:1000px;\n",
       "    margin-left:auto;\n",
       "    margin-right:auto;\n",
       "}\n",
       "\n",
       "\n",
       "/* Formatting for header cells */\n",
       ".text_cell_render h1 {\n",
       "    font-family: serif;\n",
       "    font-weight: 600;\n",
       "    font-size: 24pt;\n",
       "    line-height: 100%;\n",
       "    color: rgb(12,85,97);\n",
       "    margin-bottom: 0.1em;\n",
       "    margin-top: 0.1em;\n",
       "    display: block;\n",
       "}\t\n",
       ".text_cell_render h2 {\n",
       "    font-family: serif;\n",
       "    font-weight: 700;\n",
       "    font-size: 20pt;\n",
       "    line-height: 100%;\n",
       "    color: rgb(12,85,97);\n",
       "    margin-bottom: 0.1em;\n",
       "    margin-top: 0.1em;\n",
       "    display: block;\n",
       "}\t\n",
       "\n",
       ".text_cell_render h3 {\n",
       "    font-family: serif;\n",
       "    margin-top:12px;\n",
       "    margin-bottom: 3px;\n",
       "    font-style: italic;\n",
       "    color: rgb(12,85,97);\n",
       "}\n",
       "\n",
       ".CodeMirror{\n",
       "    font-family: \"PT Mono\";\n",
       "    font-size: 100%;\n",
       "}\n",
       "\n",
       "</style>\n"
      ],
      "text/plain": [
       "<IPython.core.display.HTML object>"
      ]
     },
     "execution_count": 6,
     "metadata": {},
     "output_type": "execute_result"
    }
   ],
   "source": [
    "from IPython.core.display import HTML ; HTML(open(\"../custom.css\", \"r\").read()) # notebook style"
   ]
  },
  {
   "cell_type": "code",
   "execution_count": null,
   "id": "persistent-frank",
   "metadata": {},
   "outputs": [],
   "source": []
  }
 ],
 "metadata": {
  "kernelspec": {
   "display_name": "Python 3",
   "language": "python",
   "name": "python3"
  },
  "language_info": {
   "codemirror_mode": {
    "name": "ipython",
    "version": 3
   },
   "file_extension": ".py",
   "mimetype": "text/x-python",
   "name": "python",
   "nbconvert_exporter": "python",
   "pygments_lexer": "ipython3",
   "version": "3.9.1"
  }
 },
 "nbformat": 4,
 "nbformat_minor": 5
}
