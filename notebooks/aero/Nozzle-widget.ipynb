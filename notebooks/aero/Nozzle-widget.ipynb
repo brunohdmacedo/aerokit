{
 "cells": [
  {
   "cell_type": "code",
   "execution_count": null,
   "id": "fewer-balloon",
   "metadata": {
    "collapsed": false
   },
   "outputs": [],
   "source": [
    "import numpy as np\n",
    "import aerokit.common.defaultgas as defg\n",
    "import aerokit.aero.Isentropic as Is\n",
    "import aerokit.aero.ShockWave  as sw\n",
    "import aerokit.aero.MassFlow   as mf\n",
    "import aerokit.aero.nozzle     as nz\n",
    "%matplotlib inline\n",
    "import matplotlib.pyplot as plt\n",
    "plt.rcParams['font.size'] = 14\n",
    "#\n",
    "def new_plot(xlab, ylab):\n",
    "    plt.figure(figsize=(15,8))\n",
    "    plt.xlabel(xlab); plt.ylabel(ylab)\n",
    "    plt.grid(which='major', linestyle='-', alpha=0.8)\n",
    "    plt.grid(which='minor', linestyle=':', alpha=0.5)"
   ]
  },
  {
   "cell_type": "markdown",
   "id": "through-rolling",
   "metadata": {},
   "source": [
    "## Definition of flow section"
   ]
  },
  {
   "cell_type": "code",
   "execution_count": null,
   "id": "handled-rendering",
   "metadata": {
    "collapsed": false
   },
   "outputs": [],
   "source": [
    "target_AoAc = 6.\n",
    "length      = 8.\n",
    "#\n",
    "# set an A/Ac law from a Mach evolution, ensure exit Mach number is consistent with As/Ac\n",
    "Noz_x    = np.linspace(0., length, 400, endpoint=True)\n",
    "ma_max   = mf.Mach_Sigma(target_AoAc, Mach=2.)\n",
    "ma       = 1. + (ma_max-1.)*np.sin(.5*(Noz_x-1.)*np.pi/(length-1.))\n",
    "Noz_AoAc = mf.Sigma_Mach(ma)\n",
    "#\n",
    "noz = nz.nozzle(Noz_x, Noz_AoAc)\n",
    "#coord_x = np.append(Noz_x, [length, 1.05*length])  # define x coordinate with 2 additional points\n",
    "\n"
   ]
  },
  {
   "cell_type": "markdown",
   "id": "diagnostic-voltage",
   "metadata": {},
   "source": [
    "# Computation of limits of flow regimes"
   ]
  },
  {
   "cell_type": "code",
   "execution_count": null,
   "id": "patent-master",
   "metadata": {
    "collapsed": false
   },
   "outputs": [],
   "source": [
    "NPR0, NPRsw, NPR1, Msub, Msh, Msup = nz._NPR_Ms_list(target_AoAc)\n",
    "print \"NPR limits are \", NPR0, NPRsw, NPR1, \"\\nwith respective Mach \", Msub, Msh, Msup\n",
    "mf.Sigma_Mach(Is.Mach_PtPs(np.array(nz._NPR_Ms_list(2.)[:3:2])))\n",
    "\n",
    "def iplot(AsAc, NPR, Mach=False):\n",
    "    noz = nz.nozzle(Noz_x, 1.+(AsAc-1)/(target_AoAc-1)*(Noz_AoAc-1.))\n",
    "    noz.set_NPR(NPR)\n",
    "    NPR0, NPRsw, NPR1, Msub, Msh, Msup = nz._NPR_Ms_list(AsAc)\n",
    "    fig, ax1 = plt.subplots(figsize=(15,8))\n",
    "    plt.xlabel('$x$'); plt.ylabel('$P_s$, $P_t$')\n",
    "    plt.grid(which='major', linestyle='-', alpha=0.8)\n",
    "    plt.grid(which='minor', linestyle=':', alpha=0.5)\n",
    "    plt.ylim(0., 1.05)\n",
    "    plt.plot(Noz_x, noz.Ptot(), Noz_x, noz.Ps())\n",
    "#    plt.plot(Noz_x, AsAc*Noz_x, Noz_x, NPR*Noz_x)\n",
    "    plt.plot(Noz_x[-1], 1./NPR, 'ro')\n",
    "    plt.plot([Noz_x[-1], Noz_x[-1]], [1./NPR0, 1./NPRsw], 'go')\n",
    "    if Mach: \n",
    "        ax2 = ax1.twinx()\n",
    "        ax2.set_ylabel('Mach')\n",
    "        ax2.set_ylim(0., 5.*1.05)\n",
    "        ax2.plot(Noz_x, noz.Mach(), '--')\n",
    "    plt.show()\n",
    "    \n",
    "iplot(target_AoAc, 2.)"
   ]
  },
  {
   "cell_type": "markdown",
   "id": "floating-uganda",
   "metadata": {},
   "source": [
    "# Nozzle regimes"
   ]
  },
  {
   "cell_type": "code",
   "execution_count": null,
   "id": "described-alias",
   "metadata": {
    "collapsed": false
   },
   "outputs": [],
   "source": [
    "import ipywidgets as pyw\n",
    "\n",
    "wi_AsAc = pyw.FloatLogSlider(value=10, base=10, min=0, max=1, step=.02, description=\"As/Ac\")\n",
    "wi_NPR  = pyw.FloatLogSlider(value=2, base=10, min=0, max=2, step=.005, description='NPR')\n",
    "#pyw.HBox(\n",
    "#    pyw.VBox(),\n",
    "#    pyw.VBox(),\n",
    "#)\n",
    "interactive_plot = pyw.interactive(iplot, AsAc=wi_AsAc, NPR=wi_NPR, Mach=True)\n",
    "output = interactive_plot.children[-1]\n",
    "output.layout.height = '500px'\n",
    "interactive_plot"
   ]
  },
  {
   "cell_type": "code",
   "execution_count": null,
   "id": "bearing-desperate",
   "metadata": {
    "collapsed": false
   },
   "outputs": [],
   "source": [
    "from IPython.core.display import HTML ; HTML(open(\"../custom.css\", \"r\").read()) # notebook style"
   ]
  }
 ],
 "metadata": {
  "kernelspec": {
   "display_name": "Python 2",
   "language": "python",
   "name": "python2"
  },
  "language_info": {
   "codemirror_mode": {
    "name": "ipython",
    "version": 2
   },
   "file_extension": ".py",
   "mimetype": "text/x-python",
   "name": "python",
   "nbconvert_exporter": "python",
   "pygments_lexer": "ipython2",
   "version": "2.7.15"
  }
 },
 "nbformat": 4,
 "nbformat_minor": 5
}