{
 "cells": [
  {
   "cell_type": "code",
   "execution_count": null,
   "id": "official-wisdom",
   "metadata": {
    "slideshow": {
     "slide_type": "skip"
    }
   },
   "outputs": [],
   "source": [
    "import aerokit.aero.unsteady1D as uq\n",
    "import aerokit.aero.riemann    as riem"
   ]
  },
  {
   "cell_type": "code",
   "execution_count": null,
   "id": "innocent-questionnaire",
   "metadata": {
    "slideshow": {
     "slide_type": "slide"
    }
   },
   "outputs": [],
   "source": []
  },
  {
   "cell_type": "code",
   "execution_count": null,
   "id": "desirable-cartridge",
   "metadata": {
    "slideshow": {
     "slide_type": "subslide"
    }
   },
   "outputs": [],
   "source": [
    "#\n",
    "qL = uq.unsteady_state(rho=1., u=0., p=1000.)\n",
    "qR = uq.unsteady_state(rho=1., u=0., p=.01)\n",
    "pb = riem.riemann_pb(qL, qR)"
   ]
  },
  {
   "cell_type": "code",
   "execution_count": null,
   "id": "needed-suite",
   "metadata": {
    "slideshow": {
     "slide_type": "subslide"
    }
   },
   "outputs": [],
   "source": [
    "pb._waves\n",
    "qA = qL._rankinehugoniot(ushock=20.)\n",
    "print (qL.asound(), qA, qA.asound())"
   ]
  },
  {
   "cell_type": "code",
   "execution_count": null,
   "id": "enormous-steel",
   "metadata": {
    "slideshow": {
     "slide_type": "slide"
    }
   },
   "outputs": [],
   "source": [
    "#\n",
    "qL = q.unsteady_state(rho=1.,   u=0., p=1.)\n",
    "qR = q.unsteady_state(rho=.125, u=0., p=.01)\n",
    "pb2 = riem.riemann_pb(qL, qR)\n",
    "pb2.__dict__, pb2._delta_uL(pb2._pstar)+pb2._delta_uR(pb2._pstar)"
   ]
  },
  {
   "cell_type": "code",
   "execution_count": null,
   "id": "noted-optics",
   "metadata": {
    "slideshow": {
     "slide_type": "slide"
    }
   },
   "outputs": [],
   "source": [
    "#\n",
    "qL = q.unsteady_state(rho=5.99924, u=19.5975, p=460.894)\n",
    "qR = q.unsteady_state(rho=5.99242, u=-6.19633, p=46.0950)\n",
    "pb2 = riem.riemann_pb(qL, qR)\n",
    "pb2.__dict__, pb2._delta_uL(pb2._pstar)+pb2._delta_uR(pb2._pstar)+pb2._qR.u - pb2._qL.u"
   ]
  },
  {
   "cell_type": "code",
   "execution_count": null,
   "id": "bizarre-calendar",
   "metadata": {
    "slideshow": {
     "slide_type": "fragment"
    }
   },
   "outputs": [],
   "source": [
    "0*range(5)"
   ]
  },
  {
   "cell_type": "code",
   "execution_count": null,
   "id": "selected-nursing",
   "metadata": {},
   "outputs": [],
   "source": []
  }
 ],
 "metadata": {
  "celltoolbar": "Slideshow",
  "kernelspec": {
   "display_name": "Python 3 (ipykernel)",
   "language": "python",
   "name": "python3"
  },
  "language_info": {
   "codemirror_mode": {
    "name": "ipython",
    "version": 3
   },
   "file_extension": ".py",
   "mimetype": "text/x-python",
   "name": "python",
   "nbconvert_exporter": "python",
   "pygments_lexer": "ipython3",
   "version": "3.8.10"
  }
 },
 "nbformat": 4,
 "nbformat_minor": 5
}
