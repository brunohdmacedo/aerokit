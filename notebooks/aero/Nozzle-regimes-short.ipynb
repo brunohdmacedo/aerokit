{
 "cells": [
  {
   "cell_type": "code",
   "execution_count": null,
   "id": "noble-configuration",
   "metadata": {},
   "outputs": [],
   "source": [
    "import numpy as np\n",
    "import aerokit.common.defaultgas as defg\n",
    "import aerokit.aero.Isentropic as Is\n",
    "import aerokit.aero.ShockWave  as sw\n",
    "import aerokit.aero.MassFlow   as mf\n",
    "import aerokit.aero.nozzle     as nz\n",
    "%matplotlib inline\n",
    "import matplotlib.pyplot as plt\n",
    "plt.rcParams['font.size'] = 14\n",
    "#\n",
    "def new_plot(xlab, ylab):\n",
    "    plt.figure(figsize=(15,8))\n",
    "    plt.xlabel(xlab); plt.ylabel(ylab)\n",
    "    plt.grid(which='major', linestyle='-', alpha=0.8)\n",
    "    plt.grid(which='minor', linestyle=':', alpha=0.5)"
   ]
  },
  {
   "cell_type": "markdown",
   "id": "cellular-bracelet",
   "metadata": {},
   "source": [
    "## Definition of flow section"
   ]
  },
  {
   "cell_type": "code",
   "execution_count": null,
   "id": "novel-toyota",
   "metadata": {},
   "outputs": [],
   "source": [
    "target_AoAc = 6.\n",
    "length      = 8.\n",
    "#\n",
    "# set an A/Ac law from a Mach evolution, ensure exit Mach number is consistent with As/Ac\n",
    "Noz_x    = np.linspace(0., length, 200, endpoint=True)\n",
    "ma_max   = mf.Mach_Sigma(target_AoAc, Mach=2.)\n",
    "ma       = 1. + (ma_max-1.)*np.sin(.5*(Noz_x-1.)*np.pi/(length-1.))\n",
    "Noz_AoAc = mf.Sigma_Mach(ma)\n",
    "#\n",
    "new_plot('$x$', 'Mach, $r=\\sqrt{A/A_c}$')\n",
    "plt.plot(Noz_x, ma, Noz_x, np.sqrt(Noz_AoAc))\n",
    "#plt.plot(Noz_x, np.sqrt(Noz_AoAc))\n",
    "#\n",
    "coord_x = np.append(Noz_x, [length, 1.05*length])  # define x coordinate with 2 additional points"
   ]
  },
  {
   "cell_type": "markdown",
   "id": "infectious-anxiety",
   "metadata": {},
   "source": [
    "# Computation of limits of flow regimes"
   ]
  },
  {
   "cell_type": "code",
   "execution_count": null,
   "id": "careful-struggle",
   "metadata": {},
   "outputs": [],
   "source": [
    "NPR0, NPRsw, NPR1, Msub, Msh, Msup = nz._NPR_Ms_list(target_AoAc)\n",
    "print (\"NPR limits are \", NPR0, NPRsw, NPR1, \"\\nwith respective Mach \", Msub, Msh, Msup)\n",
    "mf.Sigma_Mach(Is.Mach_PtPs(np.array(nz._NPR_Ms_list(2.)[:3:2])))"
   ]
  },
  {
   "cell_type": "markdown",
   "id": "lyric-prague",
   "metadata": {},
   "source": [
    "# Isentropic subsonic flow"
   ]
  },
  {
   "cell_type": "code",
   "execution_count": null,
   "id": "adequate-consumer",
   "metadata": {},
   "outputs": [],
   "source": [
    "Ma_col = .7\n",
    "#\n",
    "_M  = mf.MachSub_Sigma(Noz_AoAc*mf.Sigma_Mach(Ma_col))\n",
    "_M  = np.append(_M, [_M[-1], _M[-1]])  # add constant points\n",
    "_Pt = 0.*coord_x + 1.\n",
    "_Ps = _Pt/Is.PtPs_Mach(_M)\n",
    "#\n",
    "new_plot('$x$','Mach')\n",
    "plt.plot(coord_x, _M)"
   ]
  },
  {
   "cell_type": "code",
   "execution_count": null,
   "id": "limited-dancing",
   "metadata": {},
   "outputs": [],
   "source": [
    "new_plot('$x$','$P_s$, $P_t$')\n",
    "plt.plot(coord_x, _Pt, coord_x, _Ps)\n",
    "plt.ylim(0, 1.05)"
   ]
  },
  {
   "cell_type": "markdown",
   "id": "comparative-standing",
   "metadata": {},
   "source": [
    "# Isentropic subsonic and choked flow"
   ]
  },
  {
   "cell_type": "code",
   "execution_count": null,
   "id": "handmade-order",
   "metadata": {
    "scrolled": false
   },
   "outputs": [],
   "source": [
    "_M  = mf.Mach_Sigma(Noz_AoAc, Mach=.05)\n",
    "_M  = np.append(_M, [_M[-1], _M[-1]])  # add constant points\n",
    "_Pt = 0.*coord_x + 1.\n",
    "_Ps = _Pt/Is.PtPs_Mach(_M)\n",
    "#\n",
    "new_plot('$x$','Mach')\n",
    "plt.plot(coord_x, _M)"
   ]
  },
  {
   "cell_type": "code",
   "execution_count": null,
   "id": "geological-girlfriend",
   "metadata": {},
   "outputs": [],
   "source": [
    "new_plot('$x$','$P_s$, $P_t$')\n",
    "plt.plot(coord_x, _Pt, coord_x, _Ps)\n",
    "plt.ylim(0, 1.05)"
   ]
  },
  {
   "cell_type": "markdown",
   "id": "overall-bones",
   "metadata": {},
   "source": [
    "# Isentropic supersonic flow"
   ]
  },
  {
   "cell_type": "code",
   "execution_count": null,
   "id": "generous-server",
   "metadata": {
    "scrolled": false
   },
   "outputs": [],
   "source": [
    "_Minit = .05 + (Noz_x > 1.)*2.   # set initial guess to .05 in convergent, 2. in diffuser\n",
    "_M  = mf.Mach_Sigma(Noz_AoAc, Mach=_Minit)\n",
    "_M  = np.append(_M, [_M[-1], _M[-1]])  # add constant points\n",
    "_Pt = 0.*coord_x + 1.\n",
    "_Ps = _Pt/Is.PtPs_Mach(_M)\n",
    "# \n",
    "new_plot('$x$','Mach')\n",
    "plt.plot(coord_x, _M)"
   ]
  },
  {
   "cell_type": "code",
   "execution_count": null,
   "id": "secure-haiti",
   "metadata": {},
   "outputs": [],
   "source": [
    "new_plot('$x$','$P_s$, $P_t$')\n",
    "plt.plot(coord_x, _Pt, coord_x, _Ps)\n",
    "plt.ylim(0, 1.05)"
   ]
  },
  {
   "cell_type": "markdown",
   "id": "rising-season",
   "metadata": {},
   "source": [
    "# Supersonic nozzle with normal shock at exit"
   ]
  },
  {
   "cell_type": "code",
   "execution_count": null,
   "id": "medical-synthesis",
   "metadata": {
    "scrolled": false
   },
   "outputs": [],
   "source": [
    "# this needs computation in previous cell \n",
    "Ptloss = sw.Pi_ratio(Msup)\n",
    "_M  = mf.Mach_Sigma(Noz_AoAc, Mach=_Minit)   # recompute _M to get right array size\n",
    "_M  = np.append(_M, [Msh, Msh])              # add constant points, Msh computed in previous cells\n",
    "_Pt = np.append(0.*Noz_x + 1., [Ptloss, Ptloss]);\n",
    "_Ps = _Pt/Is.PtPs_Mach(_M)\n",
    "#\n",
    "new_plot('$x$','Mach')\n",
    "plt.plot(coord_x, _M)"
   ]
  },
  {
   "cell_type": "code",
   "execution_count": null,
   "id": "final-shirt",
   "metadata": {
    "scrolled": false
   },
   "outputs": [],
   "source": [
    "new_plot('$x$','$P_s$, $P_t$')\n",
    "plt.plot(coord_x, _Pt, coord_x, _Ps)\n",
    "plt.ylim(0, 1.05)"
   ]
  },
  {
   "cell_type": "markdown",
   "id": "preceding-insulin",
   "metadata": {},
   "source": [
    "# Supersonic nozzle with normal shock in diffuser"
   ]
  },
  {
   "cell_type": "code",
   "execution_count": null,
   "id": "therapeutic-butter",
   "metadata": {
    "scrolled": false
   },
   "outputs": [],
   "source": [
    "pos = .5                            # 0 to 1 parameter to control shock position\n",
    "NPR = NPR0*(1.-pos)+NPRsw*pos\n",
    "#\n",
    "# this needs computation of _Minit in previous cell \n",
    "_M  = mf.Mach_Sigma(Noz_AoAc, Mach=_Minit)\n",
    "#\n",
    "# analytical solution for Ms, losses and upstream Mach number of shock wave\n",
    "Ms     = nz.Ms_from_AsAc_NPR(target_AoAc, NPR)\n",
    "print (nz.Ms_from_AsAc_NPR(2.636, 1.5))\n",
    "Ptloss = Is.PtPs_Mach(Ms)/NPR\n",
    "Msh    = sw.Mn_Pi_ratio(Ptloss)\n",
    "#\n",
    "# redefine curves starting from 'ish' index (closest value of Msh in supersonic flow)\n",
    "ish    = np.abs(_M-Msh).argmin()\n",
    "_M[ish:] = mf.MachSub_Sigma(Noz_AoAc[ish:]*mf.Sigma_Mach(Ms)/target_AoAc)\n",
    "_M  = np.append(_M, [Ms, Ms])  # add constant points\n",
    "_Pt = np.append(0.*Noz_x + 1., [Ptloss, Ptloss]);\n",
    "_Pt[ish:] = Ptloss\n",
    "_Ps = _Pt/Is.PtPs_Mach(_M)\n",
    "#\n",
    "new_plot('$x$','Mach')\n",
    "plt.plot(coord_x, _M)"
   ]
  },
  {
   "cell_type": "code",
   "execution_count": null,
   "id": "anticipated-willow",
   "metadata": {
    "scrolled": false
   },
   "outputs": [],
   "source": [
    "new_plot('$x$','$P_s$, $P_t$')\n",
    "plt.plot(coord_x, _Pt, coord_x, _Ps)\n",
    "plt.ylim(0, 1.05)"
   ]
  },
  {
   "cell_type": "markdown",
   "id": "royal-happening",
   "metadata": {},
   "source": [
    "# Mach numbers in exit section and jet flow"
   ]
  },
  {
   "cell_type": "code",
   "execution_count": null,
   "id": "romantic-sodium",
   "metadata": {
    "scrolled": false
   },
   "outputs": [],
   "source": [
    "new_plot('$NPR$','$M_s$, $M_a$')\n",
    "_npr=np.exp(np.linspace(0.01, np.log(NPR1*1.2), 200))\n",
    "_ms =_npr.copy()\n",
    "_ma =_npr.copy()\n",
    "for i in np.arange(_npr.size):\n",
    "    _ms[i] = nz.Ms_from_AsAc_NPR(target_AoAc, _npr[i])\n",
    "    _ma[i] = nz.Madapt_from_AsAc_NPR(target_AoAc, _npr[i])\n",
    "plt.semilogx(_npr,_ms, _npr, _ma)"
   ]
  },
  {
   "cell_type": "code",
   "execution_count": null,
   "id": "starting-housing",
   "metadata": {},
   "outputs": [],
   "source": [
    "from IPython.core.display import HTML ; HTML(open(\"./custom.css\", \"r\").read()) # notebook style"
   ]
  },
  {
   "cell_type": "code",
   "execution_count": null,
   "id": "aa757a07",
   "metadata": {},
   "outputs": [],
   "source": []
  }
 ],
 "metadata": {
  "kernelspec": {
   "display_name": "Python 3 (ipykernel)",
   "language": "python",
   "name": "python3"
  },
  "language_info": {
   "codemirror_mode": {
    "name": "ipython",
    "version": 3
   },
   "file_extension": ".py",
   "mimetype": "text/x-python",
   "name": "python",
   "nbconvert_exporter": "python",
   "pygments_lexer": "ipython3",
   "version": "3.8.10"
  }
 },
 "nbformat": 4,
 "nbformat_minor": 5
}
