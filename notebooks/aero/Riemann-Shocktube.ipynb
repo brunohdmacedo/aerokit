{
 "cells": [
  {
   "cell_type": "code",
   "execution_count": null,
   "id": "willing-imaging",
   "metadata": {},
   "outputs": [],
   "source": [
    "import aerokit.aero.unsteady1D as uq\n",
    "import aerokit.aero.riemann    as riem"
   ]
  },
  {
   "cell_type": "code",
   "execution_count": null,
   "id": "unlimited-connection",
   "metadata": {},
   "outputs": [],
   "source": [
    "from IPython.core.display import HTML ; HTML(open(\"./custom.css\", \"r\").read()) # notebook style"
   ]
  },
  {
   "cell_type": "markdown",
   "id": "designing-senegal",
   "metadata": {},
   "source": [
    "# Shock generation\n"
   ]
  },
  {
   "cell_type": "code",
   "execution_count": null,
   "id": "acute-alert",
   "metadata": {},
   "outputs": [],
   "source": [
    "Pinit  = 1.e5\n",
    "Pratio = 2.38\n",
    "Tisoth = 293.15\n",
    "r_air = 287.1\n",
    "r_He  = 2078.\n",
    "gam_air = 1.4\n",
    "gam_He  = 5./3.\n",
    "#\n",
    "# driver gas (q20)\n",
    "q20 = uq.unsteady_state(rho = Pinit*Pratio/(r_air*Tisoth),\n",
    "                        u   = 0., \n",
    "                        p   = Pinit*Pratio, gamma=gam_air)\n",
    "# driven gas (q10)\n",
    "q10 = uq.unsteady_state(rho = Pinit/(r_air*Tisoth),\n",
    "                        u   = 0., \n",
    "                        p   = Pinit, gamma=gam_air)\n",
    "# Riemann problem\n",
    "pb1 = riem.riemann_pb(q20, q10)\n",
    "q21 = pb1.qstarL()\n",
    "q11 = pb1.qstarR()\n",
    "print (\"shock compression ratio:\", q11.p/q10.p)\n",
    "print (\"shock Mach number      :\", pb1.right_fastest()/q10.asound())"
   ]
  },
  {
   "cell_type": "markdown",
   "id": "italian-parking",
   "metadata": {},
   "source": [
    "# Shock / Interface interaction"
   ]
  },
  {
   "cell_type": "code",
   "execution_count": null,
   "id": "veterinary-modification",
   "metadata": {},
   "outputs": [],
   "source": [
    "# Helium \n",
    "q00 = uq.unsteady_state(rho = Pinit/(r_He*Tisoth),\n",
    "                        u   = 0., \n",
    "                        p   = Pinit, gamma=gam_He)\n",
    "# Riemann problem\n",
    "pb2 = riem.riemann_pb(q11, q00)\n",
    "q12 = pb2.qstarL()\n",
    "q01 = pb2.qstarR()\n",
    "print (\"shock compression ratio:\", q01.p/q00.p)\n",
    "print (\"interface speed        :\", q12.u)"
   ]
  },
  {
   "cell_type": "markdown",
   "id": "fixed-acrylic",
   "metadata": {},
   "source": [
    "# Shock reflexion"
   ]
  },
  {
   "cell_type": "code",
   "execution_count": null,
   "id": "animal-means",
   "metadata": {
    "scrolled": true
   },
   "outputs": [],
   "source": [
    "# define symmetric (ghost state) \n",
    "q01gh = q01.copysymmetric()\n",
    "# Wall interaction\n",
    "pbw = riem.riemann_pb(q01, q01gh)\n",
    "q02 = pbw.qstarL()\n",
    "print (\"shock compression ratio:\", q02.p/q01.p)\n",
    "print (\"shock Mach number      :\", pbw.left_fastest()/q01.asound())"
   ]
  },
  {
   "cell_type": "markdown",
   "id": "stupid-contractor",
   "metadata": {},
   "source": [
    "# Reshock of interface"
   ]
  },
  {
   "cell_type": "code",
   "execution_count": null,
   "id": "fitting-banking",
   "metadata": {},
   "outputs": [],
   "source": [
    "# Riemann problem\n",
    "pb3 = riem.riemann_pb(q12, q02)\n",
    "q13 = pb3.qstarL()\n",
    "q03 = pb3.qstarR()\n",
    "print (\"interface speed        :\", q13.u)"
   ]
  },
  {
   "cell_type": "markdown",
   "id": "after-collective",
   "metadata": {},
   "source": [
    "# Position of interactions"
   ]
  },
  {
   "cell_type": "code",
   "execution_count": null,
   "id": "southwest-norwegian",
   "metadata": {},
   "outputs": [],
   "source": [
    "# positions\n",
    "x_int   = 2.5 \n",
    "x_Rwall = 3.\n",
    "x_Lwall = -1.\n",
    "#\n",
    "def xt_intersect(x1, t1, u1, x2, t2, u2):\n",
    "    ti = (-x2+x1 + t2*u2-t1*u1)/(u2-u1)\n",
    "    return x1+u1*(ti-t1), ti\n",
    "#\n",
    "# shock / interface \n",
    "t_shock_int  = x_int / pb1.right_fastest()\n",
    "print (\"shock / interface   interaction at (x,t)=(%.3f,%.5f)\"%(x_int, t_shock_int))\n",
    "#\n",
    "# shock / wall\n",
    "t_shock_wall = (x_Rwall-x_int) / pb2.right_fastest() + t_shock_int\n",
    "print (\"shock / wall        interaction at (x,t)=(%.3f,%.5f)\"%(x_Rwall, t_shock_wall))\n",
    "#\n",
    "# interface / reshock\n",
    "x_reshock, t_reshock = xt_intersect(x_int,   t_shock_int,  q12.u,\n",
    "                                    x_Rwall, t_shock_wall, pbw.left_fastest())\n",
    "print (\"interface / reshock interaction at (x,t)=(%.3f,%.5f)\"%(x_reshock, t_reshock))\n",
    "#\n",
    "t_max = 1.2*t_reshock"
   ]
  },
  {
   "cell_type": "markdown",
   "id": "adjusted-johnston",
   "metadata": {},
   "source": [
    "# x/t diagram"
   ]
  },
  {
   "cell_type": "code",
   "execution_count": null,
   "id": "verbal-syndrome",
   "metadata": {},
   "outputs": [],
   "source": [
    "import matplotlib.pyplot as plt\n",
    "%matplotlib inline\n",
    "#\n",
    "plt.figure(figsize=(15,8))\n",
    "plt.axis([-1, 3, 0, t_max])\n",
    "plt.xlabel(r'$x$', fontsize=18)\n",
    "plt.ylabel(r\"$t$\", fontsize=18)\n",
    "plt.title(u\"shocktube in x/t diagram\", fontsize=18)\n",
    "#\n",
    "# plot shocks\n",
    "plt.plot([0, x_int,       x_Rwall,      x_reshock, x_reshock+pb3.left_fastest()*(t_max-t_reshock)], \n",
    "         [0, t_shock_int, t_shock_wall, t_reshock, t_max],\n",
    "         color=\"red\", linewidth=2)\n",
    "# plot interface\n",
    "plt.plot([x_int, x_int,       x_reshock, x_reshock+q13.u*(t_max-t_reshock)],\n",
    "         [0,     t_shock_int, t_reshock, t_max],\n",
    "         color=\"green\", linewidth=2, linestyle=\"dashed\")\n",
    "plt.plot([0, q11.u*t_max],\n",
    "         [0, t_max],\n",
    "         color=\"green\", linewidth=2, linestyle=\"dashed\")\n",
    "# plot expansion\n",
    "t_exp_wall = x_Lwall/q20.left_acoustic()\n",
    "plt.plot([0, x_Lwall,    x_Lwall+q21.right_acoustic()*(t_max-t_exp_wall)],\n",
    "         [0, t_exp_wall, t_max],\n",
    "         color=\"orange\", linewidth=1)\n",
    "plt.plot([0, x_Lwall],\n",
    "         [0, x_Lwall/q21.left_acoustic()],\n",
    "         color=\"orange\", linewidth=1)"
   ]
  },
  {
   "cell_type": "code",
   "execution_count": null,
   "id": "acknowledged-beginning",
   "metadata": {},
   "outputs": [],
   "source": [
    "import aerokit.aero.degree as deg\n",
    "wdev = 20.\n",
    "#print(\"wall deviation  (deg): {} with upwstream Mach number {}\".format(wdev, M0))\n",
    "\n",
    "xneg=-.5; length=1.5; dev=wdev\n",
    "plt.figure(figsize=(12,6))\n",
    "plt.axis([xneg, length, -.1, 1.1])\n",
    "plt.plot([xneg, length],    [1, 1],                      color=\"black\", linewidth=3)\n",
    "plt.plot([xneg, 0, length], [0, 0, length*deg.tan(dev)], color=\"black\", linewidth=3)"
   ]
  },
  {
   "cell_type": "code",
   "execution_count": null,
   "id": "shaped-radiation",
   "metadata": {},
   "outputs": [],
   "source": []
  }
 ],
 "metadata": {
  "kernelspec": {
   "display_name": "Python 3 (ipykernel)",
   "language": "python",
   "name": "python3"
  },
  "language_info": {
   "codemirror_mode": {
    "name": "ipython",
    "version": 3
   },
   "file_extension": ".py",
   "mimetype": "text/x-python",
   "name": "python",
   "nbconvert_exporter": "python",
   "pygments_lexer": "ipython3",
   "version": "3.8.10"
  }
 },
 "nbformat": 4,
 "nbformat_minor": 5
}
