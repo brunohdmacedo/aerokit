{
 "cells": [
  {
   "cell_type": "markdown",
   "id": "bulgarian-grave",
   "metadata": {},
   "source": [
    "# Choc / détente sur paroi\n",
    "\n",
    "On vous propose de mettre en place ...\n",
    "\n",
    "`Python` sera utilisé ici comme `matlab`. Des fonctionnalités supplémentaires peuvent être ajoutées par l'import de modules, standards à une distribution (comme `math`, `numpy`) ou personnalisés comme ci-dessous. Des fonctionnalités d'édition sont propres à [`Ipython/Notebook`](#ipython)."
   ]
  },
  {
   "cell_type": "code",
   "execution_count": null,
   "id": "anonymous-persian",
   "metadata": {},
   "outputs": [],
   "source": [
    "import math\n",
    "import numpy as np\n",
    "import matplotlib.pyplot as plt\n",
    "from aerokit.common import defaultgas\n",
    "from aerokit.aero import degree     as deg  # import trigo functions with degree unit support\n",
    "from aerokit.aero import ShockWave  as sw   # import functions for shockwave computation\n",
    "from aerokit.aero import Supersonic as sup  # import functions for steady supersonic flows\n",
    "%matplotlib inline"
   ]
  },
  {
   "cell_type": "markdown",
   "id": "enormous-professional",
   "metadata": {},
   "source": [
    "On définit tout d'abord les paramètres de ce cas. Ils sont définis comme des variables globales, que l'on peut utiliser directement dans les fonctions (comme $\\gamma$ par exemple)."
   ]
  },
  {
   "cell_type": "code",
   "execution_count": null,
   "id": "lightweight-document",
   "metadata": {
    "scrolled": false
   },
   "outputs": [],
   "source": [
    "# definition of problem parameters\n",
    "gam  = 1.4 ; defaultgas.set_gamma(gam)\n",
    "M0   = 3.\n",
    "wang1=  30.\n",
    "wang2= -20.\n",
    "\n",
    "# function to plot the geometry\n",
    "#\n",
    "def plot_geom(xneg=-.5, length=1., zoom=1, ymax=1.5):\n",
    "    fig = plt.figure(figsize=(14*zoom,8*zoom))\n",
    "    ax  = fig.add_subplot(111) \n",
    "    #plt.axis([xneg, length])\n",
    "    ax.set(aspect=\"equal\", xlim=[xneg, 4*length], ylim=[-.1, ymax])\n",
    "    h = length*deg.tan(wang1)\n",
    "    #plt.plot([xneg, length],    [1, 1],                      color=\"black\", linewidth=2)\n",
    "    plt.plot([xneg, 0, length, length-h/deg.tan(wang2), 4*length], \n",
    "             [0, 0, h, 0, 0], color=\"black\", linewidth=2)\n",
    "#\n",
    "# test de la fonction de tracé   \n",
    "plot_geom(zoom=.5)"
   ]
  },
  {
   "cell_type": "markdown",
   "id": "mature-necklace",
   "metadata": {},
   "source": [
    "## Premier choc attaché"
   ]
  },
  {
   "cell_type": "code",
   "execution_count": null,
   "id": "raised-humidity",
   "metadata": {},
   "outputs": [],
   "source": [
    "devmax   = sw.dev_Max(M0)\n",
    "devsonic = sw.dev_Sonic(M0)\n",
    "print((\"For upstream Mach number M0= {:1.4},\\n* maximum deviation is {:1.4}°\\n\"+\n",
    "      \"* limit for downstream supersonic flow is {:1.4}°\").format(M0, devmax, devsonic))"
   ]
  },
  {
   "cell_type": "code",
   "execution_count": null,
   "id": "enormous-contractor",
   "metadata": {},
   "outputs": [],
   "source": [
    "wdev = wang1\n",
    "sig1 = sw.sigma_Mach_deflection(M0, wdev)\n",
    "Mn0  = M0*deg.sin(sig1)\n",
    "p1p0 = sw.Ps_ratio(Mn0)\n",
    "Mn1  = sw.downstream_Mn(Mn0)\n",
    "M1   = Mn1/deg.sin(sig1-wdev)\n",
    "print(\"shock with {:1.4}° deviation and angle {:1.4}\\ndownstream Mach number is M1= {:1.4}\\nCompression ratio   is p1/p0= {:1.4}\".format(wdev, sig1, M1, p1p0))"
   ]
  },
  {
   "cell_type": "code",
   "execution_count": null,
   "id": "distant-jefferson",
   "metadata": {},
   "outputs": [],
   "source": [
    "plot_geom()\n",
    "# tracé du choc\n",
    "x=1.5\n",
    "plt.plot([0, x], [0, x*deg.tan(sig1)], linewidth=2, color='red')\n",
    "# tracé des caractéristiques arrivant en x=.8\n",
    "x = .8\n",
    "y = x*deg.tan(sig1)\n",
    "plt.plot([x, x-y/deg.tan(deg.asin(1./M0))], [y, 0], 'blue')\n",
    "plt.plot([x, x-y/deg.tan(wang1+deg.asin(1./M1))], [y, 0], 'blue')"
   ]
  },
  {
   "cell_type": "markdown",
   "id": "binding-patent",
   "metadata": {},
   "source": [
    "## Détente\n",
    "\n"
   ]
  },
  {
   "cell_type": "code",
   "execution_count": null,
   "id": "light-approval",
   "metadata": {},
   "outputs": [],
   "source": [
    "wdev = wang2-wang1\n",
    "om1 = sup.PrandtlMeyer_Mach(M1)\n",
    "om2 = om1 - wdev\n",
    "M2  = sup.Mach_PrandtlMeyer(om2)\n",
    "p2p0 = p1p0*sup.IsentropicPsratio_Mach_deflection(M1, wdev)\n",
    "#\n",
    "plot_geom()\n",
    "# tracé du choc\n",
    "x=1.5\n",
    "plt.plot([0, x], [0, x*deg.tan(sig1)], linewidth=2, color='red')\n",
    "# tracé des caractéristiques de la détente\n",
    "x = 1\n",
    "y = x*deg.tan(wang1)\n",
    "plt.plot([x, x+2], [y, y+2*deg.tan(wang1+deg.asin(1./M1))], 'blue')\n",
    "plt.plot([x, x+2], [y, y+2*deg.tan(wang2+deg.asin(1./M2))], 'blue')\n"
   ]
  },
  {
   "cell_type": "markdown",
   "id": "leading-temple",
   "metadata": {},
   "source": [
    "## Dernier choc\n",
    "\n"
   ]
  },
  {
   "cell_type": "code",
   "execution_count": null,
   "id": "geographic-burst",
   "metadata": {},
   "outputs": [],
   "source": [
    "wang3 = 0.\n",
    "wdev=wang3-wang2\n",
    "#\n",
    "devmax   = sw.dev_Max(M2)\n",
    "devsonic = sw.dev_Sonic(M2)\n",
    "print((\"For upstream Mach number M2= {:1.4},\\n* maximum deviation is {:1.4}°\\n\"+\n",
    "      \"* limit for downstream supersonic flow is {:1.4}°\").format(M2, devmax, devsonic))\n",
    "#\n",
    "sig2 = sw.sigma_Mach_deflection(M2, wdev)\n",
    "Mn2  = M2*deg.sin(sig2)\n",
    "Mn3  = sw.downstream_Mn(Mn2)\n",
    "M3   = Mn3/deg.sin(sig2-wdev)\n",
    "p3p0 = p2p0*sw.Ps_ratio(Mn2)\n",
    "print(\"shock with {:1.4}° deviation and angle {:1.4}\\ndownstream Mach number is M3= {:1.4}\".format(wdev, sig2, M3))"
   ]
  },
  {
   "cell_type": "code",
   "execution_count": null,
   "id": "elegant-official",
   "metadata": {},
   "outputs": [],
   "source": [
    "plot_geom(ymax=2.)\n",
    "# tracé du choc\n",
    "x=2\n",
    "plt.plot([0, x], [0, x*deg.tan(sig1)], linewidth=2, color='red')\n",
    "# tracé des caractéristiques de la détente\n",
    "x = 1\n",
    "y = x*deg.tan(wang1)\n",
    "plt.plot([x, x+2], [y, y+2*deg.tan(wang1+deg.asin(1./M1))], 'blue')\n",
    "plt.plot([x, x+3], [y, y+3*deg.tan(wang2+deg.asin(1./M2))], 'blue')\n",
    "#\n",
    "# tracé du choc\n",
    "x=1-deg.tan(wang1)/deg.tan(wang2)\n",
    "plt.plot([x, x+2], [0, 2*deg.tan(wang2+sig2)], linewidth=2, color='red')\n"
   ]
  },
  {
   "cell_type": "markdown",
   "id": "united-pregnancy",
   "metadata": {},
   "source": [
    "# Représentation dans la polaire"
   ]
  },
  {
   "cell_type": "code",
   "execution_count": null,
   "id": "involved-tackle",
   "metadata": {},
   "outputs": [],
   "source": [
    "import aerokit.aero.plot.shockpolar      as swplt\n",
    "import aerokit.aero.plot.isentropicpolar as isplt\n",
    "\n",
    "fig=swplt.figure_theta_pressure(figsize=(14,8))\n",
    "fig.suptitle('Polar of Shock-Waves, $\\gamma = %.1f$'%gam, fontsize=12, y=0.93)\n",
    "plt.xlabel('flow angle', fontsize=10)\n",
    "plt.ylabel('normalized static pressure', fontsize=10)\n",
    "if p2p0 < 20.: plt.yscale('linear') # default is logarithmic\n",
    "#\n",
    "# plot polar curves\n",
    "swplt.plot_theta_pressure(M0, devmax=True, sonic=True, curve='right')\n",
    "isplt.plot_theta_pressure(M1, [wang2-wang1, 0.], thet_init=wang1, p_init=p1p0, color='blue')\n",
    "swplt.plot_theta_pressure(M2, thet_init=wang2, p_init=p2p0, color='red', curve='right')\n",
    "\n",
    "# plot symbols for flow regions\n",
    "plt.plot(0,     1.,   'bo')\n",
    "plt.plot(wang1, p1p0, 'yo')\n",
    "plt.plot(wang2, p2p0, 'yo')\n",
    "plt.plot(wang3, p3p0, 'ro')"
   ]
  },
  {
   "cell_type": "markdown",
   "id": "enclosed-norway",
   "metadata": {
    "collapsed": true
   },
   "source": [
    "---\n",
    "\n",
    "<a id=\"ipython\"></a>\n",
    "## Ipython et notebook : usage\n",
    "\n",
    "* le notebook utilise la langage de base python en version améliorée, Ipython, qui permet la complétion des noms (variables, fonctions, modules) avec la touche tabulation\n",
    "* toutes les cellules peuvent être modifiées par un double-clic et sont réinterprêtées avec `shift-entrée`\n",
    "* l'ensemble de la feuille peut être exécutée avec le menu `Cell/run all cells`\n",
    "* **n'oubliez pas de sauvegarder régulièrement votre feuille** (bouton _enregistrer_)\n"
   ]
  },
  {
   "cell_type": "code",
   "execution_count": null,
   "id": "declared-halifax",
   "metadata": {},
   "outputs": [],
   "source": [
    "from IPython.core.display import HTML ; HTML(open(\"../custom.css\", \"r\").read()) # notebook style"
   ]
  },
  {
   "cell_type": "code",
   "execution_count": null,
   "id": "biological-washer",
   "metadata": {},
   "outputs": [],
   "source": []
  }
 ],
 "metadata": {
  "kernelspec": {
   "display_name": "Python 3 (ipykernel)",
   "language": "python",
   "name": "python3"
  },
  "language_info": {
   "codemirror_mode": {
    "name": "ipython",
    "version": 3
   },
   "file_extension": ".py",
   "mimetype": "text/x-python",
   "name": "python",
   "nbconvert_exporter": "python",
   "pygments_lexer": "ipython3",
   "version": "3.8.10"
  }
 },
 "nbformat": 4,
 "nbformat_minor": 5
}
