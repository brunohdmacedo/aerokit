{
 "cells": [
  {
   "cell_type": "markdown",
   "id": "abandoned-engineer",
   "metadata": {},
   "source": [
    "# Rankine-Hugoniot, la polaire de chocs\n",
    "\n",
    "On vous propose de mettre en place une feuille de calcul de l'écoulement supersonique autour d'un profil ABC isocèle en B. Les calculs doivent être les plus généraux possibles et paramétrés en particulier par le nombre de Mach `Minf` et l'incidence `aoa`.\n",
    "\n",
    "`Python` sera utilisé ici comme `matlab`. Des fonctionnalités supplémentaires peuvent être ajoutées par l'import de modules, standards à une distribution (comme `math`, `numpy`) ou personnalisés comme ci-dessous. Des fonctionnalités d'édition sont propres à [`Ipython/Notebook`](#ipython)."
   ]
  },
  {
   "cell_type": "code",
   "execution_count": null,
   "id": "massive-spare",
   "metadata": {},
   "outputs": [],
   "source": [
    "import math\n",
    "import numpy as np\n",
    "import matplotlib.pyplot as plt\n",
    "from aerokit.aero import degree    as deg # import trig functions with degree unit support\n",
    "from aerokit.aero import ShockWave as sw  # import functions for shockwave computation"
   ]
  },
  {
   "cell_type": "markdown",
   "id": "comic-doctor",
   "metadata": {},
   "source": [
    "Les paramètres suivants sont définis comme des variables globales, que l'on peut utiliser directement dans les fonctions (comme $\\gamma$ par exemple)."
   ]
  },
  {
   "cell_type": "code",
   "execution_count": null,
   "id": "behind-interference",
   "metadata": {},
   "outputs": [],
   "source": [
    "# definition of problem parameters\n",
    "gam = 1.4 # ; gp1 = gam+1 ; gm1 = gam-1 ; gsgm1 = gam/gm1 ; usgm1 = 1/gm1\n",
    "Minf = 4.418\n",
    "Tinf =  216.0\n",
    "pinf = 5500.0\n",
    "aoa = 0.0 ; print(\"angle of attack  (deg): {}\".format(aoa))\n",
    "AB = BC = 0.5 ; hol = 0.0437#44331762962 (=0.5*sin(5°)) # hol is h/l (h over l)\n",
    "prof_ang = deg.atan(2*hol) ; print(\"angle of profile (deg): {}\".format(prof_ang))"
   ]
  },
  {
   "cell_type": "markdown",
   "id": "specific-album",
   "metadata": {},
   "source": [
    "## Définition des fonctions de transformation à travers le choc"
   ]
  },
  {
   "cell_type": "markdown",
   "id": "velvet-lottery",
   "metadata": {},
   "source": [
    "On vous propose tout d'abord de définir les fonctions de saut 1D dépendantes du Mach normal amont. On vérifiera les fonctions implémentées à l'aide des tables.\n",
    "\n",
    "$$\\frac{\\rho_1}{\\rho_0} = \\left( \\frac{2}{\\gamma+1}\\frac{1}{M_{n0}^2} + \\frac{\\gamma-1}{\\gamma+1} \\right)^{—1}\n",
    "\\qquad\\qquad\n",
    "  \\frac{P_1}{P_0} =  \\frac{2\\gamma}{\\gamma+1}M_{n0}^2 - \\frac{\\gamma-1}{\\gamma+1} $$\n",
    "\n",
    "$$ M_{n1}^2 = \\frac{1+\\frac{\\gamma-1}{2} M_{n0}^2}{\\gamma M_{n0}^2 - \\frac{\\gamma-1}{2} } $$"
   ]
  },
  {
   "cell_type": "code",
   "execution_count": null,
   "id": "environmental-quarterly",
   "metadata": {},
   "outputs": [],
   "source": [
    "import aerokit.aero.ShockWave as sw\n",
    "\n",
    "# --- functions implementation ---\n",
    "\n",
    "def rho_ratio_from_Mn(Mn):\n",
    "    return sw.Rho_ratio(Mn)\n",
    "\n",
    "def ps_ratio_from_Mn(Mn):\n",
    "    return sw.Ps_ratio(Mn)\n",
    "\n",
    "def Mn1_from_Mn(Mn):\n",
    "    return sw.downstream_Mn(Mn)\n",
    "\n",
    "def pi_ratio_from_Mn(Mn):\n",
    "    return sw.Pi_ratio(Mn)\n",
    "\n",
    "# --- verification ---\n",
    "Mnx = 2.0 ; ref = 4.5 ; print(\"relative error on Ps ratio is {:3.1e}%\".format((ps_ratio_from_Mn(Mnx)-ref)/ref*100))"
   ]
  },
  {
   "cell_type": "markdown",
   "id": "large-arctic",
   "metadata": {},
   "source": [
    "On peut maintenant implémenter le calcul de la polaire de choc, soit le calcul direct (voir procédure dans les tables), soit un calcul itératif à partir de\n",
    "$$ \\frac{\\tan\\sigma}{\\tan(\\sigma-\\theta)}=\\frac{\\rho_1}{\\rho_0}=f(M_0,\\sigma) $$"
   ]
  },
  {
   "cell_type": "code",
   "execution_count": null,
   "id": "fluid-salad",
   "metadata": {},
   "outputs": [],
   "source": [
    "from scipy.optimize import newton\n",
    "\n",
    "def sigma_from_M0_Dev(M0, dev):\n",
    "    # definition of the function to solver\n",
    "    # this function has 4 roots, good initialization is critical to get the right 'weak' solution\n",
    "    def f_to_solve(sig):\n",
    "        return deg.tan(sig-dev)*rho_ratio_from_Mn(M0*deg.sin(sig))-deg.tan(sig)\n",
    "    return newton(f_to_solve, deg.asin(1./M0)+dev)\n",
    "\n",
    "# --- verification ---\n",
    "Mx=2. ; devx=20. ; ref = 53.4229401037; print(\"relative error on sigma is {:3.1e}%\".format((sigma_from_M0_Dev(Mx,devx)-ref)/ref*100))"
   ]
  },
  {
   "cell_type": "markdown",
   "id": "guilty-knight",
   "metadata": {},
   "source": [
    "## Polaire angle de choc $\\sigma$ et déviation $\\theta$\n",
    "\n",
    "On définit *a minima* la fonction de Prandtl-Meyer $ \\tilde{\\omega}(M)$ et son inverse.\n",
    "\n",
    "$$ \\tilde{\\omega}(M) = \\sqrt\\frac{\\gamma+1}{\\gamma-1}\\arctan\\sqrt{\\frac{\\gamma-1}{\\gamma+1}(M^2-1)}\n",
    "       + \\arctan\\frac{1}{\\sqrt{M^2-1}} - 90°$$"
   ]
  },
  {
   "cell_type": "code",
   "execution_count": null,
   "id": "seven-integration",
   "metadata": {},
   "outputs": [],
   "source": [
    "%matplotlib inline\n",
    "npoints = 100\n",
    "gam     = 1.4\n",
    "\n",
    "# define figure\n",
    "fig=plt.figure(1, figsize=(10,8))\n",
    "fig.suptitle('Polar of Shock-Waves, $\\gamma = %.1f$'%gam, fontsize=12, y=0.93)\n",
    "\n",
    "macharray = [ 1.05, 1.1, 1.2, 1.3, 1.4, 1.5, 1.6, 1.8, 2.0, 2.2, 2.5, 3.0, 3.5, 4.0, 5.0, 6.0, 10., 100. ]\n",
    "\n",
    "for m in macharray:\n",
    "    sig = np.linspace(deg.asin(1./m), 90., npoints+1)\n",
    "    dev = sw.deflection_Mach_sigma(m, sig, gam)\n",
    "    i_pos_text = npoints//2\n",
    "    plt.plot(dev, sig, 'k-')\n",
    "    # draw \"Mach\" label\n",
    "    plt.text(dev[i_pos_text], sig[i_pos_text], '%.3g'%m,\n",
    "             horizontalalignment='center', verticalalignment='top',\n",
    "             fontsize=8, bbox=dict(facecolor='white', alpha=0.8),\n",
    "             rotation=60)\n",
    "\n",
    "# define plot style\n",
    "plt.axis([0., 50., 0., 90.])\n",
    "plt.xlabel('deviation $\\Delta\\\\theta$', fontsize=10)\n",
    "plt.ylabel('shock angle $\\sigma$', fontsize=10)\n",
    "plt.minorticks_on()\n",
    "plt.grid(which='major', linestyle='-', alpha=0.8)\n",
    "plt.grid(which='minor', linestyle=':', alpha=0.5)"
   ]
  },
  {
   "cell_type": "code",
   "execution_count": null,
   "id": "continental-farming",
   "metadata": {},
   "outputs": [],
   "source": [
    "import aerokit.aero.Supersonic as sup\n",
    "\n",
    "fig=plt.figure(1, figsize=(10,8))\n",
    "fig.suptitle('Polar of isentropic compression and Shock-Waves, $\\gamma = %.1f$'%gam, fontsize=12, y=0.93)\n",
    "\n",
    "macharray = [ 1.2, 1.5, 2., 3., 5.]\n",
    "rdev      = np.linspace(0., 50., npoints+1)\n",
    "\n",
    "for m in macharray:\n",
    "    sig  = np.linspace(deg.asin(1./m), 90., npoints+1)\n",
    "    dev  = sw.deflection_Mach_sigma(m, sig, gam)\n",
    "    kpsw = sw.Ps_ratio(m*deg.sin(sig), gam)     # pressure ratio only depends on normal Mach number\n",
    "    rdev = np.linspace(0., .99*sup.PrandtlMeyer_Mach(m, gam), npoints+1)\n",
    "    kpis = sup.IsentropicPsratio_Mach_deflection(m, rdev, gam)\n",
    "    plt.plot(dev,  kpsw, 'k-')\n",
    "    plt.plot(rdev, kpis, 'k--', alpha=0.6)\n",
    "    plt.plot(rdev[-1], kpis[-1], 'ro', alpha=0.5)\n",
    "    plt.text(rdev[-1], kpis[-1], 'M=1', fontsize=7, clip_on='true', horizontalalignment='right')\n",
    "    i_pos_text = 4*npoints//5\n",
    "    plt.text(dev[i_pos_text], kpsw[i_pos_text], '%.3g'%m,\n",
    "             horizontalalignment='left', verticalalignment='top',\n",
    "             fontsize=8, bbox=dict(facecolor='white', alpha=0.8),\n",
    "             rotation=0)\n",
    "plt.xlim(0., 50.)\n",
    "plt.ylim(1., 50.)\n",
    "plt.xlabel('deviation $\\Delta\\\\theta$', fontsize=10)\n",
    "plt.ylabel('pressure ratio through deviation', fontsize=10)\n",
    "plt.yscale('log')\n",
    "plt.minorticks_on()\n",
    "plt.grid(which='major', linestyle='-', alpha=0.8)\n",
    "plt.grid(which='minor', linestyle=':', alpha=0.5)\n"
   ]
  },
  {
   "cell_type": "markdown",
   "id": "compact-notice",
   "metadata": {
    "collapsed": true
   },
   "source": [
    "---\n",
    "\n",
    "<a id=\"ipython\"></a>\n",
    "## Ipython et notebook : usage\n",
    "\n",
    "* le notebook utilise la langage de base python en version améliorée, Ipython, qui permet la complétion des noms (variables, fonctions, modules) avec la touche tabulation\n",
    "* toutes les cellules peuvent être modifiées par un double-clic et sont réinterprêtées avec `shift-entrée`\n",
    "* l'ensemble de la feuille peut être exécutée avec le menu `Cell/run all cells`\n",
    "* **n'oubliez pas de sauvegarder régulièrement votre feuille** (bouton _enregistrer_)\n"
   ]
  },
  {
   "cell_type": "code",
   "execution_count": null,
   "id": "united-richmond",
   "metadata": {},
   "outputs": [],
   "source": [
    "from IPython.core.display import HTML ; HTML(open(\"./custom.css\", \"r\").read()) # notebook style"
   ]
  }
 ],
 "metadata": {
  "kernelspec": {
   "display_name": "Python 3 (ipykernel)",
   "language": "python",
   "name": "python3"
  },
  "language_info": {
   "codemirror_mode": {
    "name": "ipython",
    "version": 3
   },
   "file_extension": ".py",
   "mimetype": "text/x-python",
   "name": "python",
   "nbconvert_exporter": "python",
   "pygments_lexer": "ipython3",
   "version": "3.11.4"
  }
 },
 "nbformat": 4,
 "nbformat_minor": 5
}
