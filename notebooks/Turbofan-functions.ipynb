{
 "cells": [
  {
   "cell_type": "markdown",
   "id": "driven-pakistan",
   "metadata": {
    "slideshow": {
     "slide_type": "slide"
    }
   },
   "source": [
    "<h1 align=\"center\" style=\"font-size:60px\">Analyse des performances du turbofan</h1><br>\n",
    "<img align=\"center\" src=\"./Downloads/cycle turbofan.tiff\" width=600px>"
   ]
  },
  {
   "cell_type": "markdown",
   "id": "working-harmony",
   "metadata": {
    "slideshow": {
     "slide_type": "slide"
    }
   },
   "source": [
    "## Importation des librairies et du cycle du turbofan"
   ]
  },
  {
   "cell_type": "markdown",
   "id": "after-assignment",
   "metadata": {
    "slideshow": {
     "slide_type": "fragment"
    }
   },
   "source": [
    "<h3>Nous avons besoins de :</h3>\n",
    "<ul>\n",
    "    <li>Numpy</li>\n",
    "    <li>Matplotlib</li>\n",
    "    <li>Cycle du Turbofan</li>\n",
    "</ul>    "
   ]
  },
  {
   "cell_type": "code",
   "execution_count": null,
   "id": "quick-iraqi",
   "metadata": {
    "collapsed": false,
    "slideshow": {
     "slide_type": "fragment"
    }
   },
   "outputs": [],
   "source": [
    "import sys\n",
    "reload(sys)\n",
    "sys.setdefaultencoding('utf-8')\n",
    "import aerokit.engine.propu_be_double_corps as cycle\n",
    "import numpy as np\n",
    "import matplotlib.pyplot as plt\n",
    "%matplotlib inline\n",
    "plt.rcParams['figure.figsize'] = (15, 7)\n",
    "%xmode verbose"
   ]
  },
  {
   "cell_type": "markdown",
   "id": "center-israel",
   "metadata": {
    "slideshow": {
     "slide_type": "slide"
    }
   },
   "source": [
    "## Plages de variation"
   ]
  },
  {
   "cell_type": "code",
   "execution_count": null,
   "id": "meaningful-prototype",
   "metadata": {
    "collapsed": false,
    "slideshow": {
     "slide_type": "fragment"
    }
   },
   "outputs": [],
   "source": [
    "tab_Bpr = np.arange(2,16,0.2)\n",
    "tab_m = np.arange(0.2,0.8,0.05)\n",
    "tab_Tt4 = np.arange(900,2500,10)\n",
    "tab_Opr = np.arange(2,55,0.5)"
   ]
  },
  {
   "cell_type": "markdown",
   "id": "hired-bowling",
   "metadata": {
    "slideshow": {
     "slide_type": "slide"
    }
   },
   "source": [
    "## Rendement thermique en fonction de $T_{i4}$ à $\\lambda$ fixe"
   ]
  },
  {
   "cell_type": "code",
   "execution_count": null,
   "id": "acceptable-output",
   "metadata": {
    "collapsed": false,
    "scrolled": false,
    "slideshow": {
     "slide_type": "subslide"
    }
   },
   "outputs": [],
   "source": [
    "AllTt4, AllOpr = np.meshgrid(tab_Tt4, tab_Opr)\n",
    "F_spe, mk_spe, eta_th, eta_prop, eta, pi_f = cycle.calculs(11,AllOpr,AllTt4,230.,0.58)\n",
    "plt.figure(1)\n",
    "plot1 = plt.contour(AllTt4, eta_th, AllOpr, levels=[2, 5, 10, 30, 50])\n",
    "plt.axis([1000,2500,0,0.55])\n",
    "plt.xlabel(r'$T_{i4}$', fontsize=18)\n",
    "plt.ylabel(r\"$\\eta_{th}$\", fontsize=18)\n",
    "plt.title(u\"Rendement thermique à $\\lambda$ fixe\", fontsize=18)\n",
    "plt.clabel(plot1, inline=True, fontsize=12, fmt=r'$\\pi_c=%.0f$')\n",
    "plt.show()"
   ]
  },
  {
   "cell_type": "markdown",
   "id": "spare-workshop",
   "metadata": {
    "slideshow": {
     "slide_type": "slide"
    }
   },
   "source": [
    "## Rendement propulsif en fonction de $T_{i4}$ à $\\pi_c$ fixe"
   ]
  },
  {
   "cell_type": "code",
   "execution_count": null,
   "id": "median-audit",
   "metadata": {
    "collapsed": false,
    "slideshow": {
     "slide_type": "subslide"
    }
   },
   "outputs": [],
   "source": [
    "AllTt4, AllBpr = np.meshgrid(tab_Tt4, tab_Bpr)\n",
    "F_spe, mk_spe, eta_th, eta_prop, eta, pi_f = cycle.calculs(AllBpr,41.,AllTt4,230.,0.58)\n",
    "plt.figure(1)\n",
    "plot1 = plt.contour(AllTt4, eta_prop, AllBpr, levels=[2,6,10,12,15])\n",
    "plt.axis([1000,2500,0,1])\n",
    "plt.xlabel(r'$T_{i4}$', fontsize=18)\n",
    "plt.ylabel(r\"$\\eta_{prop}$\", fontsize=18)\n",
    "plt.title(u\"Rendement propulsif à $\\pi_c$ fixe\", fontsize=18)\n",
    "plt.clabel(plot1, inline=True, fontsize=12, fmt=r'$\\lambda=%.0f$')\n",
    "plt.show()"
   ]
  },
  {
   "cell_type": "markdown",
   "id": "united-tension",
   "metadata": {
    "slideshow": {
     "slide_type": "subslide"
    }
   },
   "source": [
    "On constate que le rendement thermique augmente quand $T_{i4}$ et $\\pi_c$ augmentent (figure 1) mais le rendement propulsif se dégrade quand $T_{i4}$ augmente (figure 2). Or le rendement propulsif augmente quand on augmente le rapport de dilution (figure 3). On doit donc augmenter le rendement propulsif en augmentant le rapport de dilution pour compenser la perte de rendement propulsif dû à l'augmentation de la $T_{i4}$."
   ]
  },
  {
   "cell_type": "markdown",
   "id": "dress-actor",
   "metadata": {
    "slideshow": {
     "slide_type": "slide"
    }
   },
   "source": [
    "## Rendement global en fonction de $T_{i4}$ à $\\pi_c$ puis à $\\lambda$ fixe"
   ]
  },
  {
   "cell_type": "code",
   "execution_count": null,
   "id": "sunset-count",
   "metadata": {
    "collapsed": false,
    "slideshow": {
     "slide_type": "subslide"
    }
   },
   "outputs": [],
   "source": [
    "AllBpr, AllTt4 = np.meshgrid(tab_Bpr, tab_Tt4)\n",
    "F_spe, mk_spe, eta_th, eta_prop, eta, pi_f = cycle.calculs(AllBpr,41.,AllTt4,230.,0.58)\n",
    "plt.figure(1)\n",
    "plot1 = plt.contour(AllTt4, eta, AllBpr, levels=[2,6,10,12,15])\n",
    "plt.axis([1000,2500,0,0.31])\n",
    "plt.xlabel(r'$T_{i4}$', fontsize=18)\n",
    "plt.ylabel(u\"$\\eta$\", fontsize=18)\n",
    "plt.title(u\"Rendement global à $\\pi_c$ fixe\", fontsize=18)\n",
    "plt.clabel(plot1, inline=True, fontsize=12, fmt=r'$\\lambda=%.0f$')\n",
    "plt.show()"
   ]
  },
  {
   "cell_type": "code",
   "execution_count": null,
   "id": "statewide-soccer",
   "metadata": {
    "collapsed": false,
    "slideshow": {
     "slide_type": "subslide"
    }
   },
   "outputs": [],
   "source": [
    "AllOpr, AllTt4 = np.meshgrid(tab_Opr, tab_Tt4)\n",
    "F_spe, mk_spe, eta_th, eta_prop, eta, pi_f = cycle.calculs(11.,AllOpr,AllTt4,230.,0.58)\n",
    "plt.figure(1)\n",
    "plot1 = plt.contour(AllTt4, eta, AllOpr, levels=[2,5,10,30,50])\n",
    "plt.axis([1000,2500,0,0.32])\n",
    "plt.xlabel(r'$T_{i4}$', fontsize=18)\n",
    "plt.ylabel(u\"$\\eta$\", fontsize=18)\n",
    "plt.title(u\"Rendement global à $\\lambda$ fixe\", fontsize=18)\n",
    "plt.clabel(plot1, inline=True, fontsize=12, fmt=r'$\\pi_c=%.0f$')\n",
    "plt.show()"
   ]
  },
  {
   "cell_type": "markdown",
   "id": "impossible-scanner",
   "metadata": {
    "slideshow": {
     "slide_type": "subslide"
    }
   },
   "source": [
    "On voit mieux sur ces graphes, que si l'on veut maximiser le rendement global (c'est-à-dire minimiser la consommation spécifique) en travaillant avec une $T_{i4}$ et un $\\pi_c$ élevés il faut augmenter le taux de dilution."
   ]
  },
  {
   "cell_type": "markdown",
   "id": "dried-probability",
   "metadata": {
    "slideshow": {
     "slide_type": "skip"
    }
   },
   "source": [
    "## Consommation spécifique en fonction de la poussée spécifique à $T_{i4}$ fixe"
   ]
  },
  {
   "cell_type": "code",
   "execution_count": null,
   "id": "afraid-shooting",
   "metadata": {
    "collapsed": false,
    "slideshow": {
     "slide_type": "skip"
    }
   },
   "outputs": [],
   "source": [
    "AllBpr, AllOpr = np.meshgrid(tab_Bpr, tab_Opr)\n",
    "F_spe, mk_spe, eta_th, eta_prop, eta, pi_f = cycle.calculs(AllBpr,AllOpr,1620.,230.,0.58)\n",
    "plt.figure(1)\n",
    "plot1 = plt.contour(F_spe, mk_spe, AllBpr, levels=[2,6,10,12,15])\n",
    "plot2 = plt.contour(F_spe, mk_spe, AllOpr, linestyles='dashed', levels=[2,5,10,30,50])\n",
    "plt.axis([0,450,150,550])\n",
    "plt.xlabel(u'Poussée spécifique', fontsize=18)\n",
    "plt.ylabel(u\"Conso spécifique\", fontsize=18)\n",
    "plt.title(u\"Conso spécifique à $T_{i4}$ fixe\", fontsize=18)\n",
    "plt.clabel(plot1, inline=True, fontsize=12, fmt=r'$\\lambda=%.0f$')\n",
    "plt.clabel(plot2, inline=True, fontsize=12, fmt=r'$\\pi_c=%.0f$')\n",
    "plt.show()"
   ]
  },
  {
   "cell_type": "markdown",
   "id": "assured-specialist",
   "metadata": {
    "slideshow": {
     "slide_type": "slide"
    }
   },
   "source": [
    "## En conclusion"
   ]
  },
  {
   "cell_type": "markdown",
   "id": "cognitive-water",
   "metadata": {
    "slideshow": {
     "slide_type": "fragment"
    }
   },
   "source": [
    "$\\textbf{Pour minimiser la consommation spécifique du turbofan :}$\n",
    "<ul>\n",
    "    <li>On augmente $T_{i4}$ jusqu'à la temperature limite des matériaux, pour augmenter le rendement thermique</li>\n",
    "    <li>On augmente $\\pi_c$ pour maximiser le rendement thermique</li>\n",
    "    <li>On augmente $\\lambda$ pour maximiser le rendement propulsif</li>\n",
    "</ul>"
   ]
  }
 ],
 "metadata": {
  "celltoolbar": "Slideshow",
  "kernelspec": {
   "display_name": "Python 2",
   "language": "python",
   "name": "python2"
  },
  "language_info": {
   "codemirror_mode": {
    "name": "ipython",
    "version": 2
   },
   "file_extension": ".py",
   "mimetype": "text/x-python",
   "name": "python",
   "nbconvert_exporter": "python",
   "pygments_lexer": "ipython2",
   "version": "2.7.15"
  }
 },
 "nbformat": 4,
 "nbformat_minor": 5
}