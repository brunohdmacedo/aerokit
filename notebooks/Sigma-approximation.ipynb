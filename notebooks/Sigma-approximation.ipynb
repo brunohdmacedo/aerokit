{
 "cells": [
  {
   "cell_type": "code",
   "execution_count": null,
   "id": "compatible-designer",
   "metadata": {},
   "outputs": [],
   "source": [
    "import numpy as np\n",
    "import aerokit.aero.Isentropic as Is\n",
    "import aerokit.aero.ShockWave  as sw\n",
    "import aerokit.aero.MassFlow   as mf\n",
    "%matplotlib inline\n",
    "import matplotlib.pyplot as plt\n",
    "plt.rcParams['font.size'] = 14\n",
    "#\n",
    "def new_plot(xlab, ylab):\n",
    "    plt.figure(figsize=(15,8))\n",
    "    plt.xlabel(xlab); plt.ylabel(ylab)\n",
    "    plt.grid(which='major', linestyle='-', alpha=0.8)\n",
    "    plt.grid(which='minor', linestyle=':', alpha=0.5)"
   ]
  },
  {
   "cell_type": "code",
   "execution_count": null,
   "id": "developing-carnival",
   "metadata": {},
   "outputs": [],
   "source": [
    "# formes approchées de la fonction sigma\n",
    "gamma=1.4\n",
    "rgam =(gamma+1.)/(gamma-1.)\n",
    "_M = np.linspace(.01, 4., 200, endpoint=True)\n",
    "_S = mf.Sigma_Mach(_M)\n",
    "new_plot('M','$\\Sigma$')\n",
    "plt.plot(_M, _S, _M, (2./(gamma+1.))**(.5*rgam)/_M, _M, ((rgam+_M*_M))**(.5*(rgam-1))/rgam**(.5*rgam))\n",
    "#plt.semilogy(_M, (_S-((rgam+_M*_M))**(.5*(rgam-1))/rgam**(.5*rgam))/_S)\n",
    "plt.ylim(0, 10.)"
   ]
  },
  {
   "cell_type": "code",
   "execution_count": null,
   "id": "white-sellers",
   "metadata": {},
   "outputs": [],
   "source": [
    "new_plot('M','$\\Sigma$')\n",
    "plt.plot(_M, mf.MachSub_Sigma(_S), _M, mf.MachSup_Sigma(_S))"
   ]
  },
  {
   "cell_type": "code",
   "execution_count": null,
   "id": "rapid-clerk",
   "metadata": {},
   "outputs": [],
   "source": []
  }
 ],
 "metadata": {
  "kernelspec": {
   "display_name": "Python 3 (ipykernel)",
   "language": "python",
   "name": "python3"
  },
  "language_info": {
   "codemirror_mode": {
    "name": "ipython",
    "version": 3
   },
   "file_extension": ".py",
   "mimetype": "text/x-python",
   "name": "python",
   "nbconvert_exporter": "python",
   "pygments_lexer": "ipython3",
   "version": "3.8.10"
  }
 },
 "nbformat": 4,
 "nbformat_minor": 5
}
