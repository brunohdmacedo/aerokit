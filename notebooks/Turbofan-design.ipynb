{
 "cells": [
  {
   "cell_type": "code",
   "execution_count": null,
   "id": "hired-tunnel",
   "metadata": {},
   "outputs": [],
   "source": [
    "from IPython.core.display import HTML ; HTML(open(\"./custom.css\", \"r\").read()) # notebook style"
   ]
  },
  {
   "cell_type": "markdown",
   "id": "global-pickup",
   "metadata": {
    "slideshow": {
     "slide_type": "slide"
    }
   },
   "source": [
    "<h1 align=\"center\" style=\"font-size:40px\">Analyse des performances du turbofan</h1><br>"
   ]
  },
  {
   "cell_type": "markdown",
   "id": "cubic-attribute",
   "metadata": {
    "slideshow": {
     "slide_type": "slide"
    }
   },
   "source": [
    "## Importation des librairies et du cycle du turbofan"
   ]
  },
  {
   "cell_type": "markdown",
   "id": "compound-premium",
   "metadata": {
    "slideshow": {
     "slide_type": "fragment"
    }
   },
   "source": [
    "<h3>Nous avons besoin de :</h3>\n",
    "<ul>\n",
    "    <li>Numpy</li>\n",
    "    <li>Matplotlib</li>\n",
    "    <li>Cycle du Turbofan</li>\n",
    "</ul>    "
   ]
  },
  {
   "cell_type": "code",
   "execution_count": null,
   "id": "ambient-prize",
   "metadata": {
    "slideshow": {
     "slide_type": "fragment"
    }
   },
   "outputs": [],
   "source": [
    "#sys.setdefaultencoding('utf-8')\n",
    "import numpy as np\n",
    "import aerokit.engine.Cycle_Turbofan as cycle\n",
    "import matplotlib.pyplot as plt\n",
    "%matplotlib inline\n",
    "plt.rcParams['figure.figsize'] = (15, 7)\n",
    "#%xmode verbose"
   ]
  },
  {
   "cell_type": "markdown",
   "id": "dynamic-sample",
   "metadata": {
    "slideshow": {
     "slide_type": "slide"
    }
   },
   "source": [
    "## Plages de variation"
   ]
  },
  {
   "cell_type": "code",
   "execution_count": null,
   "id": "entertaining-performance",
   "metadata": {
    "slideshow": {
     "slide_type": "fragment"
    }
   },
   "outputs": [],
   "source": [
    "# gas properties\n",
    "g      = cycle.Gaz()\n",
    "g_fuel = cycle.Gaz(1.33, 291.6, 42800e3)\n",
    "#\n",
    "# turbo fan components range\n",
    "tab_Bpr = np.arange(1,16,0.2)\n",
    "tab_m = np.arange(0.2,0.8,0.05)\n",
    "tab_Tt4 = np.arange(900,2500,10)\n",
    "tab_Opr = np.arange(2,55,0.5)"
   ]
  },
  {
   "cell_type": "markdown",
   "id": "diagnostic-oxygen",
   "metadata": {
    "slideshow": {
     "slide_type": "slide"
    }
   },
   "source": [
    "## Design en poussée spécifique et rendement à $T_{i4}$ fixé"
   ]
  },
  {
   "cell_type": "code",
   "execution_count": null,
   "id": "falling-celebration",
   "metadata": {
    "slideshow": {
     "slide_type": "subslide"
    }
   },
   "outputs": [],
   "source": [
    "AllBpr, AllOpr = np.meshgrid(tab_Bpr, tab_Opr)\n",
    "turbofan = cycle.cycle_taux_fan_calcule(AllBpr, AllOpr, 1600., 230., g, g_fuel, .58)\n",
    "turbofan.calculs_5_to_9()\n",
    "\n",
    "# F_spe, mk_spe, eta_th, eta_prop, eta, pi_f = turbofan.F_spe, mk_spe, eta_th, eta_prop, eta, pi_f\n",
    "plt.figure(1)\n",
    "plot1 = plt.contour(turbofan.eta, turbofan.F_spe, AllOpr, levels=[4, 8, 15, 30, 50], colors=\"r\")\n",
    "plot2 = plt.contour(turbofan.eta, turbofan.F_spe, AllBpr, levels=[1, 2, 4, 8, 15], colors=\"b\")\n",
    "#plt.axis([5, 50, 0, 0.55])\n",
    "plt.xlabel(r'$\\eta_{thp}$', fontsize=18)\n",
    "plt.ylabel(r\"$F_{sp}$\", fontsize=18)\n",
    "plt.title(u\"Champ à $T_{t4}$ fixe\", fontsize=18)\n",
    "plt.clabel(plot1, inline=True, fontsize=12, fmt=r'$\\pi=%.0f$')\n",
    "plt.clabel(plot2, inline=True, fontsize=12, fmt=r'$\\lambda=%.0f$')\n",
    "plt.show()"
   ]
  },
  {
   "cell_type": "code",
   "execution_count": null,
   "id": "bcd78ed5",
   "metadata": {},
   "outputs": [],
   "source": []
  }
 ],
 "metadata": {
  "kernelspec": {
   "display_name": "Python 3 (ipykernel)",
   "language": "python",
   "name": "python3"
  },
  "language_info": {
   "codemirror_mode": {
    "name": "ipython",
    "version": 3
   },
   "file_extension": ".py",
   "mimetype": "text/x-python",
   "name": "python",
   "nbconvert_exporter": "python",
   "pygments_lexer": "ipython3",
   "version": "3.8.10"
  }
 },
 "nbformat": 4,
 "nbformat_minor": 5
}
