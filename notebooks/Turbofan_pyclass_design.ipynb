{
 "cells": [
  {
   "cell_type": "code",
   "execution_count": null,
   "id": "english-netherlands",
   "metadata": {
    "slideshow": {
     "slide_type": "slide"
    }
   },
   "outputs": [],
   "source": [
    "from IPython.core.display import HTML ; HTML(open(\"./custom.css\", \"r\").read()) # notebook style"
   ]
  },
  {
   "cell_type": "markdown",
   "id": "activated-suite",
   "metadata": {
    "slideshow": {
     "slide_type": "slide"
    }
   },
   "source": [
    "<h1 align=\"center\" style=\"font-size:40px\">Construction d'un cycle de Turbofan</h1><br>\n",
    "<img alt=\"turbofan animation\" align=center src=\"https://upload.wikimedia.org/wikipedia/commons/4/44/Turbofan3_Unlabelled.gif\" width=400px)>"
   ]
  },
  {
   "cell_type": "markdown",
   "id": "arranged-provider",
   "metadata": {
    "slideshow": {
     "slide_type": "slide"
    }
   },
   "source": [
    "<h2>1. Importation des librairies python</h2>"
   ]
  },
  {
   "cell_type": "code",
   "execution_count": null,
   "id": "dynamic-addition",
   "metadata": {
    "slideshow": {
     "slide_type": "subslide"
    }
   },
   "outputs": [],
   "source": [
    "import numpy as np\n",
    "import aerokit.aero.Isentropic as Is\n",
    "%xmode verbose"
   ]
  },
  {
   "cell_type": "markdown",
   "id": "welsh-repository",
   "metadata": {
    "slideshow": {
     "slide_type": "slide"
    }
   },
   "source": [
    "## 2. Introduction à la programmation objet python, définition de l'objet Gaz (gaz parfait)"
   ]
  },
  {
   "cell_type": "markdown",
   "id": "informed-count",
   "metadata": {
    "slideshow": {
     "slide_type": "fragment"
    }
   },
   "source": [
    "On propose de coder la classe $\\textbf{Gaz}$, qui a pour arguments d'instance, $\\gamma$, $r$, $P_k$ et une méthode get_cp(self).<br>\n",
    "Pour utiliser un objet en python il faut d'abords déclarer une classe comme en JAVA. \n",
    "Au lieu de \"$\\textbf{def}$ function_name(args):\" en python, on doit déclarer \"$\\textbf{class}$ class_name:\"<br>\n",
    "Les attributs se déclarent comme des variable en python dans la class.<br>\n",
    "Pour déclarer une méthode on utilise \"$\\textbf{def}$ nom_de_methode(self, args):\"<br>\n",
    "La méthode \"$\\textbf{__init__(self, args):}$\" correspond au constructeur en JAVA.<br>\n",
    "L'argument \"$\\textbf{self}$\" représente l'instance de l'objet (pointeur vers l'objet en memoire). On a donc 2 types d'arguments, les attributs qui sont communs à chaque objet (ex: M_0 = 0.8) et les attributs qui sont proprent à chaque objet (ex : self.gamma = 1.4)."
   ]
  },
  {
   "cell_type": "code",
   "execution_count": null,
   "id": "micro-pleasure",
   "metadata": {
    "slideshow": {
     "slide_type": "subslide"
    }
   },
   "outputs": [],
   "source": [
    "class Gaz:\n",
    "    \n",
    "    def __init__(self, gamma=1.4, r=287., P_k=0):\n",
    "        self.gamma = gamma\n",
    "        self.r = r\n",
    "        self.P_k = P_k\n",
    "        self.gsgmu = gamma / (gamma - 1.)\n",
    "        self.gmusg = (gamma - 1.) / gamma\n",
    "        \n",
    "    def get_cp(self):\n",
    "        return (self.r * self.gamma) / (self.gamma - 1.)"
   ]
  },
  {
   "cell_type": "markdown",
   "id": "mediterranean-parcel",
   "metadata": {
    "slideshow": {
     "slide_type": "slide"
    }
   },
   "source": [
    "## 3. Construction du cycle de l'étage 1 à 4"
   ]
  },
  {
   "cell_type": "markdown",
   "id": "victorian-croatia",
   "metadata": {
    "slideshow": {
     "slide_type": "-"
    }
   },
   "source": [
    "On construit maintenant une classe $\\textbf{cycle_1_to_4}$ qui représentera un turbofan de l'étage 1 jusqu'à la sortie de chambre de combustion. Cette classe prend comme arguments : $P_0$, $T_0$, $M_0$, ainsi que les différents $\\eta$ et $\\xi$. Il y aura une méthode pour le calcule de chaque étage.<br><br>\n",
    "$\\textbf{Rappels de cours :}$\n",
    "<ul>\n",
    "    <li>Étage 1 :</li>\n",
    "          <ul>\n",
    "               <li>Grandeurs totales : $$T_{i}=T\\cdot \\left(1 + \\frac{\\gamma -1}{2}\\cdot M^2\\right) \\quad \\& \\quad P_{i}=P\\cdot \\left(1 + \\frac{\\gamma -1}{2}\\cdot M^2\\right)^{\\frac{\\gamma}{\\gamma -1}}$$</li>\n",
    "          </ul>\n",
    "     <li>Étage 2 :</li>\n",
    "          <ul>\n",
    "               <li>Notion de perte de charge : $$P_{i2}=\\xi \\cdot P_{i1} \\quad \\& \\quad T_{i2}=T_{i1}$$</li>\n",
    "          </ul>\n",
    "     <li>Étage 3 :</li>\n",
    "            <ul>\n",
    "               <li>Compression polytropique : $$\\pi_c=\\frac{P_{i3}}{P_{i2}}=\\frac{T_{i3}}{T_{i2}}^{\\frac{\\gamma \\cdot \\eta_{pol}}{\\gamma - 1}} \\quad \\& \\quad \\dot{w}_u=\\dot{m}_c \\cdot c_p \\cdot \\left(T_{i3} - T_{i2}\\right)$$</li>\n",
    "          </ul>\n",
    "     <li>Étage 4:\n",
    "          <ul>\n",
    "               <li>Chambre de combustion : $$\\alpha =\\frac{\\dot{m}_k}{\\dot{m}} \\quad \\& \\quad \\dot{m}_c c^*_p\\left(1+\\alpha\\right) T_{i4} - \\dot{m}_c c_p T_{i3}=\\eta_{comb} \\dot{m}_k P_k \\quad \\& \\quad P_{i4}=\\xi \\cdot P_{i3}$$</li>\n",
    "          </ul>\n",
    "     </li>\n",
    "</ul>"
   ]
  },
  {
   "cell_type": "code",
   "execution_count": null,
   "id": "color-atlas",
   "metadata": {
    "slideshow": {
     "slide_type": "-"
    }
   },
   "outputs": [],
   "source": [
    "class cycle_1_to_4:\n",
    "    \n",
    "    P0 = 227.00e2\n",
    "    T0 = 217.00\n",
    "    M0 = 0.8\n",
    "    \n",
    "    xi_e = 0.97\n",
    "    eta_c = 0.90\n",
    "    eta_f = 0.89\n",
    "    eta_comb = 0.99\n",
    "    xi_cc = 0.95\n",
    "    eta_m = 0.98\n",
    "    eta_turb = 0.88\n",
    "    xi_tuy = 0.97\n",
    "    \n",
    "    def __init__(self, lambda_, pi_c, Tt4, m, g, g_fuel):\n",
    "        self.lambda_ = lambda_\n",
    "        self.pi_c = pi_c\n",
    "        self.Tt4 = Tt4\n",
    "        self.m = m\n",
    "        self.g = g\n",
    "        self.g_fuel = g_fuel\n",
    "        self.current_stage_corps = 0            \n",
    "\n",
    "    def show_attributes(self):\n",
    "        for attr in dir(self):\n",
    "            if (not callable(getattr(self, attr)) and not attr.startswith('__')) :\n",
    "                print(\"%s = %r\" % (attr, getattr(self, attr)))\n",
    "    \n",
    "    def InitialValues(self):\n",
    "        self.Pt0 = self.P0 * Is.PtPs_Mach(Mach=self.M0, gamma=self.g.gamma)\n",
    "        self.Tt0 = self.T0 * Is.TtTs_Mach(Mach=self.M0, gamma=self.g.gamma)\n",
    "        self.V0 = self.M0 * np.sqrt(self.g.gamma * self.g.r * self.T0)\n",
    "        self.current_stage_corps = 1\n",
    "        \n",
    "    def stage_2(self):\n",
    "        if self.current_stage_corps == 1:\n",
    "            self.Tt2 = self.Tt0\n",
    "            self.Pt2 = self.Pt0 * self.xi_e\n",
    "            self.current_stage_corps = 2\n",
    "        else:\n",
    "            print (\"Il faut initialiser les valeurs d'entrées à l'aide de la méthode InitialValues\")\n",
    "        \n",
    "    def stage_3(self):\n",
    "        if self.current_stage_corps == 2:\n",
    "            self.m_c = self.m / (self.lambda_ + 1.)\n",
    "            self.Tt3 = self.Tt2 * self.pi_c**(self.g.gmusg / self.eta_c)\n",
    "            self.Pt3 = self.Pt2 * self.pi_c\n",
    "            self.wu_c = self.m_c * self.g.get_cp() * (self.Tt3 - self.Tt2)\n",
    "            self.current_stage_corps = 3\n",
    "            \n",
    "    def stage_4(self):\n",
    "        if self.current_stage_corps == 3:\n",
    "            self.m_k = self.m_c * (((self.g_fuel.get_cp() * self.Tt4) - (self.g.get_cp() * self.Tt3))/((self.eta_comb * self.g_fuel.P_k) - (self.g_fuel.get_cp() * self.Tt4)))\n",
    "            self.alpha = self.m_k / self.m_c\n",
    "            self.Pt4 = self.Pt3 * self.xi_cc\n",
    "            self.current_stage_corps = 4\n",
    "            \n",
    "    def calculs_1_to_4(self):\n",
    "        if self.current_stage_corps == 0:\n",
    "            self.InitialValues()\n",
    "            self.stage_2()\n",
    "            self.stage_3()\n",
    "            self.stage_4()\n",
    "        if self.current_stage_corps == 1:\n",
    "            self.stage_2()\n",
    "            self.stage_3()\n",
    "            self.stage_4()\n",
    "        if self.current_stage_corps == 2:\n",
    "            self.stage_3()\n",
    "            self.stage_4()\n",
    "        if self.current_stage_corps == 3:\n",
    "            self.stage_4()\n",
    "        "
   ]
  },
  {
   "cell_type": "markdown",
   "id": "engaging-butler",
   "metadata": {
    "slideshow": {
     "slide_type": "slide"
    }
   },
   "source": [
    "## 4. Construction du cycle l'étage 4 à la fin"
   ]
  },
  {
   "cell_type": "markdown",
   "id": "korean-instrumentation",
   "metadata": {
    "slideshow": {
     "slide_type": "subslide"
    }
   },
   "source": [
    "On construit en suite une nouvelle classe $\\textbf{cycle_5_to_9}$ qui hérite de la classe $\\textbf{cycle_1_to_4}$ en déclarant \"$\\textbf{class}$ cycle_5_to_9(cycle_1_to_4):\". Cela veut dire que la nouvelle classe héritera des attributs et des méthodes de la classe $\\textbf{cycle_1_to_4}$.<br>\n",
    "Nous proposons 2 méthodes pour le calcul de la fin du cycle, une à $\\pi_{fan}$ fixé et une autre à $\\pi_{fan}$ calculé en renvoyant un pourcentage de la puissance récupérée dans la turbine BP vers le fan.<br><br>\n",
    "$\\textbf{Rappels de cours :}$\n",
    "<ul>\n",
    "    <li>Turbines : $$\\pi_t=\\frac{P_{i4}}{P_{i5}}=\\left(\\frac{T_{i4}}{T_{i5}}\\right)^{\\frac{\\gamma}{\\eta_{pol}\\left(\\gamma - 1\\right)}} \\quad \\& \\quad \\dot{w}_u=\\dot{m}_c \\left(1+\\alpha \\right) c^*_p \\left(T_{i5} - T_{i4}\\right)$$</li>\n",
    "    <li>Tuyères : $$T_{i9}\\simeq T_{i5} \\quad \\& \\quad P_{i9}=\\xi \\cdot P_{i5}$$</li>\n",
    "    <li>Poussée : $$F=\\dot{m} \\left(V_9 - V_0\\right)$$</li>\n",
    "    <li>Puissance propulsive : $$P_F=F \\cdot V_0$$</li>\n",
    "    <li>Variation d'énergie cinétique des gaz : $$\\Delta E_c=\\frac{1}{2} {m}_c \\left(\\left(1+\\alpha\\right)V^2_9 - V^2_0\\right) + \\frac{1}{2} {m}_f \\left(V^2_{19} - V^2_{0}\\right)$$</li>\n",
    "    <li>Puissance thermique de combustion : $$\\dot{Q}_f=\\dot{m}_k \\cdot P_k$$</li>\n",
    "    <li>Rendements : $$\\eta_T=\\frac{\\Delta E_c}{\\dot{Q}_f} \\quad \\& \\quad \\eta_P=\\frac{P_F}{\\Delta E_c} \\quad \\& \\quad \\eta = \\eta_T \\cdot \\eta_P$$</li>\n",
    "    <li>Grandeurs spécifique : $$F_{spe}=\\frac{F}{\\dot{m}}\\quad \\& \\quad C_s=\\frac{\\dot{m}_k}{F}$$</li>\n",
    "</ul>"
   ]
  },
  {
   "cell_type": "markdown",
   "id": "heavy-beast",
   "metadata": {
    "slideshow": {
     "slide_type": "slide"
    }
   },
   "source": [
    "### 4.1. Méthode 1 : à $\\pi_f$ fixé"
   ]
  },
  {
   "cell_type": "markdown",
   "id": "pediatric-persian",
   "metadata": {
    "slideshow": {
     "slide_type": "fragment"
    }
   },
   "source": [
    "On déclare une classe qui hérite de la classe précedente"
   ]
  },
  {
   "cell_type": "code",
   "execution_count": null,
   "id": "attempted-israel",
   "metadata": {
    "slideshow": {
     "slide_type": "fragment"
    }
   },
   "outputs": [],
   "source": [
    "class cycle_taux_fan_fixe(cycle_1_to_4):\n",
    "    \n",
    "    def __init__(self, lambda_, pi_c, Tt4, m, g, g_fuel, pi_f):\n",
    "        self.lambda_ = lambda_\n",
    "        self.pi_c = pi_c\n",
    "        self.Tt4 = Tt4\n",
    "        self.m = m\n",
    "        self.g = g\n",
    "        self.g_fuel = g_fuel\n",
    "        self.pi_f = pi_f\n",
    "        self.current_stage_corps = 0\n",
    "        self.current_stage_fan = 0\n",
    "        self.calculs_1_to_4()\n",
    "        \n",
    "    def stage_13(self):\n",
    "        if self.current_stage_corps >= 2:\n",
    "            self.m_f = self.m * self.lambda_ / (self.lambda_ + 1.)\n",
    "            self.Tt13 = self.Tt2 * self.pi_f**(self.g.gmusg / self.eta_c)\n",
    "            self.Pt13 = self.Pt2 * self.pi_f\n",
    "            self.wu_f = self.m_f * self.g.get_cp() * (self.Tt13 - self.Tt2)\n",
    "            self.current_stage_fan = 13\n",
    "            \n",
    "    def stage_19(self):\n",
    "        if self.current_stage_fan == 13:\n",
    "            self.Pt19 = self.Pt13 * self.xi_tuy\n",
    "            self.Tt19 = self.Tt13\n",
    "            self.P19 = self.P0\n",
    "            self.M19 = Is.Mach_PtPs(self.Pt19/self.P19, self.g.gamma)\n",
    "            self.V19 = Is.Velocity_MachTi(self.M19, self.Tt19, self.g.r, self.g.gamma)\n",
    "            self.F_f = self.m_f * (self.V19 - self.V0)\n",
    "            self.current_stage_fan = 19\n",
    "            \n",
    "    def stage_5(self):\n",
    "        if self.current_stage_corps == 4 and self.current_stage_fan >= 13:\n",
    "            self.Tt5 = self.Tt4 - ((self.wu_f + self.wu_c)/(self.m_c * (1. + self.alpha) * self.g_fuel.get_cp() * self.eta_m))\n",
    "            self.pi_t = (self.Tt4 / self.Tt5)**(self.g_fuel.gsgmu / self.eta_turb)\n",
    "            self.Pt5 = self.Pt4 / self.pi_t\n",
    "            self.current_stage_corps = 5\n",
    "            \n",
    "    def stage_9(self):\n",
    "        if self.current_stage_corps == 5:\n",
    "            self.Tt9 = self.Tt5\n",
    "            self.Pt9 = self.Pt5 * self.xi_tuy\n",
    "            self.P9 = self.P0\n",
    "            self.M9 = Is.Mach_PtPs(self.Pt9/self.P9, self.g_fuel.gamma)\n",
    "            self.V9 = Is.Velocity_MachTi(self.M9, self.Tt9, self.g_fuel.r, self.g_fuel.r)\n",
    "            self.F_c = self.m_c * (self.V9 - self.V0)\n",
    "            self.current_stage_corps = 9\n",
    "            \n",
    "    def perfo(self):\n",
    "        if (self.current_stage_corps == 9 and self.current_stage_fan == 19):\n",
    "            self.F = self.F_f + self.F_c\n",
    "            self.F_spe = self.F / self.m\n",
    "            self.mk_spe = (self.m_k / self.F)*10e6\n",
    "            Qf = self.g_fuel.P_k * self.m_k\n",
    "            delta_E = .5*(self.m_c*((1. + self.alpha)*self.V9**2 - self.V0**2) + self.m_f*(self.V19**2 - self.V0**2))\n",
    "            self.eta_th = delta_E / Qf\n",
    "            self.eta_prop = (self.F * self.V0) / delta_E\n",
    "            self.eta = self.eta_th * self.eta_prop\n",
    "            \n",
    "    def show_perfo(self):\n",
    "        if self.current_stage_fan == 19 and self.current_stage_corps == 9:\n",
    "            print (\"%s\\t\\t\\t%.0f\\t%s\" % (\"Poussée :\", self.F, \"N\"))\n",
    "            print (\"%s\\t\\t%.2f\\t%s\" % (\"Poussée spécifique :\", self.F_spe, \"N.s/kg\"))\n",
    "            print (\"%s\\t%.2f\\t%s\" % (\"Consommation spécifique :\", self.mk_spe, \"g/kN/s\"))\n",
    "            print (\"%s\\t\\t%.3f\\t%s\" % (\"Rendement thermique :\", self.eta_th, \"\"))\n",
    "            print (\"%s\\t\\t%.3f\\t%s\" % (\"Rendement propulsif :\", self.eta_prop, \"\"))\n",
    "            print (\"%s\\t\\t%.3f\\t%s\" % (\"Rendement global :\", self.eta, \"\"))\n",
    "    \n",
    "    def calculs_5_to_9(self):\n",
    "        if self.current_stage_fan == 0:\n",
    "            self.stage_13()\n",
    "            self.stage_19()\n",
    "            self.stage_5()\n",
    "            self.stage_9()\n",
    "            self.perfo()\n",
    "        if self.current_stage_fan == 13:\n",
    "            self.stage_19()\n",
    "            self.stage_5()\n",
    "            self.stage_9()\n",
    "            self.perfo()\n",
    "        if self.current_stage_fan == 19:\n",
    "            self.stage_5()\n",
    "            self.stage_9()\n",
    "            self.perfo()\n",
    "        if self.current_stage_corps == 5:\n",
    "            self.stage_9()\n",
    "            self.perfo()\n",
    "        if self.current_stage_fan == 19 and self.current_stage_corps == 9:\n",
    "            self.perfo()\n",
    "                               "
   ]
  },
  {
   "cell_type": "markdown",
   "id": "electric-manner",
   "metadata": {
    "slideshow": {
     "slide_type": "slide"
    }
   },
   "source": [
    "### 4.1. Méthode 2 : à $\\pi_f$ calculé"
   ]
  },
  {
   "cell_type": "code",
   "execution_count": null,
   "id": "mediterranean-likelihood",
   "metadata": {
    "slideshow": {
     "slide_type": "fragment"
    }
   },
   "outputs": [],
   "source": [
    "class cycle_taux_fan_calcule(cycle_1_to_4):\n",
    "    \n",
    "    def __init__(self, lambda_, pi_c, Tt4, m, g, g_fuel, taux_meca=.5):\n",
    "        self.lambda_ = lambda_\n",
    "        self.pi_c = pi_c\n",
    "        self.Tt4 = Tt4\n",
    "        self.m = m\n",
    "        self.g = g\n",
    "        self.g_fuel = g_fuel\n",
    "        self.taux_meca = taux_meca\n",
    "        self.current_stage_corps = 0\n",
    "        self.current_stage_fan = 0\n",
    "        self.calculs_1_to_4()\n",
    "        \n",
    "    def stage_4_etoile(self):\n",
    "        if self.current_stage_corps == 4:\n",
    "            self.Tt4_etoile = self.Tt4 - ((self.wu_c)/(self.m_c * (1. + self.alpha) * self.g_fuel.get_cp() * self.eta_m))\n",
    "            self.pi_t_c = (self.Tt4 / self.Tt4_etoile)**(self.g_fuel.gsgmu / self.eta_turb)\n",
    "            self.Pt4_etoile = self.Pt4 / self.pi_t_c\n",
    "            self.current_stage_corps = 5\n",
    "            \n",
    "    def stage_5(self):\n",
    "        if self.current_stage_corps == 5:\n",
    "            P5 = self.P0\n",
    "            T5 = self.Tt4_etoile * (P5 / self.Pt4_etoile)**self.g_fuel.gmusg\n",
    "            w_uf_theo = self.m_c * (1. + self.alpha) * self.g_fuel.get_cp() * (T5 - self.Tt4_etoile)\n",
    "            self.wu_fan = w_uf_theo * self.taux_meca\n",
    "            self.Tt5 = (self.wu_fan / (self.g_fuel.get_cp() * self.m_c * (1. + self.alpha))) + self.Tt4_etoile\n",
    "            self.pi_t_f = (self.Tt4_etoile / self.Tt5)**(self.g_fuel.gsgmu / self.eta_turb)\n",
    "            self.Pt5 = self.Pt4_etoile / self.pi_t_f\n",
    "            self.current_stage_corps = 6\n",
    "    \n",
    "    def stage_9(self):\n",
    "        if self.current_stage_corps == 6:\n",
    "            self.Tt9 = self.Tt5\n",
    "            self.Pt9 = self.Pt5 * self.xi_tuy\n",
    "            self.P9 = self.P0\n",
    "            self.M9 = Is.Mach_PtPs(self.Pt9/self.P9, self.g_fuel.gamma)\n",
    "            self.V9 = Is.Velocity_MachTi(self.M9, self.Tt9, self.g_fuel.r, self.g_fuel.r)\n",
    "            self.F_c = self.m_c * (self.V9 - self.V0)\n",
    "            self.current_stage_corps = 9\n",
    "            \n",
    "    def stage_13(self):\n",
    "        if self.current_stage_corps >= 6:\n",
    "            self.m_f = (self.lambda_ * self.m) / (self.lambda_ + 1.)\n",
    "            self.Tt13 = -self.wu_fan * self.eta_m /(self.m_f * self.g.get_cp()) + self.Tt2\n",
    "            self.pi_f = (self.Tt13 / self.Tt2)**(self.eta_f * self.g.gsgmu)\n",
    "            self.Pt13 = self.Pt2 * self.pi_f\n",
    "            self.current_stage_fan = 13\n",
    "            \n",
    "    def stage_19(self):\n",
    "        if self.current_stage_fan == 13:\n",
    "            self.Pt19 = self.Pt13 * self.xi_tuy\n",
    "            self.Tt19 = self.Tt13\n",
    "            self.P19 = self.P0\n",
    "            self.M19 = Is.Mach_PtPs(self.Pt19/self.P19, self.g.gamma)\n",
    "            self.V19 = Is.Velocity_MachTi(self.M19, self.Tt19, self.g.r, self.g.gamma)\n",
    "            self.F_f = self.m_f * (self.V19 - self.V0)\n",
    "            self.current_stage_fan = 19\n",
    "            \n",
    "    def perfo(self):\n",
    "        if (self.current_stage_corps == 9 and self.current_stage_fan == 19):\n",
    "            self.F = self.F_f + self.F_c\n",
    "            self.F_spe = self.F / self.m\n",
    "            self.mk_spe = (self.m_k / self.F)*10e6\n",
    "            Qf = self.g_fuel.P_k * self.m_k\n",
    "            delta_E = .5*(self.m_c*((1. + self.alpha)*self.V9**2 - self.V0**2) + self.m_f*(self.V19**2 - self.V0**2))\n",
    "            self.eta_th = delta_E / Qf\n",
    "            self.eta_prop = (self.F * self.V0) / delta_E\n",
    "            self.eta = self.eta_th * self.eta_prop\n",
    "            return self.F, self.F_spe, self.mk_spe, self.eta_th, self.eta_prop, self.eta\n",
    "            \n",
    "    def show_perfo(self):\n",
    "        if self.current_stage_fan == 19 and self.current_stage_corps == 9:\n",
    "            print (\"%s\\t\\t\\t%.0f\\t%s\" % (\"Poussée :\", self.F, \"N\"))\n",
    "            print (\"%s\\t\\t%.2f\\t%s\" % (\"Poussée spécifique :\", self.F_spe, \"N.s/kg\"))\n",
    "            print (\"%s\\t%.2f\\t%s\" % (\"Consommation spécifique :\", self.mk_spe, \"g/kN/s\"))\n",
    "            print (\"%s\\t\\t%.3f\\t%s\" % (\"Rendement thermique :\", self.eta_th, \"\"))\n",
    "            print (\"%s\\t\\t%.3f\\t%s\" % (\"Rendement propulsif :\", self.eta_prop, \"\"))\n",
    "            print (\"%s\\t\\t%.3f\\t%s\" % (\"Rendement global :\", self.eta, \"\"))\n",
    "            \n",
    "    \n",
    "    def calculs_5_to_9(self):\n",
    "        if self.current_stage_corps == 4:\n",
    "            self.stage_4_etoile()\n",
    "            self.stage_5()\n",
    "            self.stage_9()\n",
    "            self.stage_13()\n",
    "            self.stage_19()\n",
    "            self.perfo()\n",
    "        if self.current_stage_corps == 5:\n",
    "            self.stage_5()\n",
    "            self.stage_9()\n",
    "            self.stage_13()\n",
    "            self.stage_19()\n",
    "            self.perfo()\n",
    "        if self.current_stage_corps == 6:\n",
    "            self.stage_9()\n",
    "            self.stage_13()\n",
    "            self.stage_19()\n",
    "            self.perfo()\n",
    "        if self.current_stage_corps == 9:\n",
    "            self.stage_13()\n",
    "            self.stage_19()\n",
    "            self.perfo()\n",
    "        if self.current_stage_fan == 13:\n",
    "            self.stage_19()\n",
    "            self.perfo()\n",
    "        if self.current_stage_fan == 19 and self.current_stage_corps == 9:\n",
    "            self.perfo()"
   ]
  },
  {
   "cell_type": "markdown",
   "id": "administrative-smell",
   "metadata": {
    "slideshow": {
     "slide_type": "slide"
    }
   },
   "source": [
    "## 5. Résultats"
   ]
  },
  {
   "cell_type": "code",
   "execution_count": null,
   "id": "friendly-memory",
   "metadata": {
    "slideshow": {
     "slide_type": "subslide"
    }
   },
   "outputs": [],
   "source": [
    "g = Gaz()\n",
    "g_fuel = Gaz(1.33,291.6,42800.e3)\n",
    "c1 = cycle_taux_fan_fixe(6.1,32.8,1410.,180.,g,g_fuel,1.6)\n",
    "c2 = cycle_taux_fan_calcule(11,41,1620.,230.,g,g_fuel,0.58)\n",
    "c1.calculs_5_to_9()\n",
    "c2.calculs_5_to_9()\n",
    "print (\"__CFM56__\")\n",
    "c1.show_perfo()\n",
    "print (\"__LEAP 1A__\")\n",
    "c2.show_perfo()"
   ]
  },
  {
   "cell_type": "markdown",
   "id": "generic-recall",
   "metadata": {
    "slideshow": {
     "slide_type": "slide"
    }
   },
   "source": [
    "## 5. Implémentation dans le package @hades@"
   ]
  },
  {
   "cell_type": "code",
   "execution_count": null,
   "id": "south-effort",
   "metadata": {
    "slideshow": {
     "slide_type": "subslide"
    }
   },
   "outputs": [],
   "source": [
    "import aerokit.engine.Cycle_Turbofan as tf\n",
    "g      = tf.Gaz()\n",
    "g_fuel = tf.Gaz(1.33,291.6,42800.e3)\n",
    "c1 = tf.cycle_taux_fan_fixe(6.1,32.8,1410.,180.,g,g_fuel,1.6)\n",
    "c2 = tf.cycle_taux_fan_calcule(11,41,1620.,230.,g,g_fuel,0.58)\n",
    "c1.calculs_5_to_9()\n",
    "c2.calculs_5_to_9()\n",
    "print (\"__CFM56__\")\n",
    "c1.show_perfo()\n",
    "print (\"__LEAP 1A__\")\n",
    "c2.show_perfo()"
   ]
  },
  {
   "cell_type": "code",
   "execution_count": null,
   "id": "incoming-vertex",
   "metadata": {},
   "outputs": [],
   "source": []
  }
 ],
 "metadata": {
  "kernelspec": {
   "display_name": "Python 3 (ipykernel)",
   "language": "python",
   "name": "python3"
  },
  "language_info": {
   "codemirror_mode": {
    "name": "ipython",
    "version": 3
   },
   "file_extension": ".py",
   "mimetype": "text/x-python",
   "name": "python",
   "nbconvert_exporter": "python",
   "pygments_lexer": "ipython3",
   "version": "3.8.10"
  }
 },
 "nbformat": 4,
 "nbformat_minor": 5
}
